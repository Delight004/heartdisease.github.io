{
 "cells": [
  {
   "cell_type": "markdown",
   "id": "b5612306",
   "metadata": {},
   "source": [
    "### Importing python libraries "
   ]
  },
  {
   "cell_type": "code",
   "execution_count": 2,
   "id": "019ccb91",
   "metadata": {},
   "outputs": [],
   "source": [
    "import numpy as np\n",
    "import pandas as pd\n",
    "import matplotlib.pyplot as plt\n",
    "import seaborn as sns\n",
    "from sklearn.model_selection import train_test_split\n",
    "from sklearn.preprocessing import StandardScaler\n",
    "from sklearn.linear_model import LogisticRegression\n",
    "from sklearn.svm import SVC\n",
    "from sklearn.tree import DecisionTreeClassifier\n",
    "from xgboost import XGBClassifier\n",
    "from sklearn.neighbors import KNeighborsClassifier\n",
    "from sklearn.metrics import accuracy_score\n",
    "from sklearn.metrics import precision_score\n",
    "from sklearn.metrics import recall_score, f1_score\n",
    "from sklearn.metrics import r2_score, mean_absolute_error,mean_squared_error"
   ]
  },
  {
   "cell_type": "markdown",
   "id": "d8ca4d12",
   "metadata": {},
   "source": [
    "### Loading dataset"
   ]
  },
  {
   "cell_type": "code",
   "execution_count": 3,
   "id": "c0fc67f5",
   "metadata": {},
   "outputs": [],
   "source": [
    "df= pd.read_csv(r\"C:\\Users\\USER\\OneDrive - Teesside University\\ML ICA\\heart.csv\")"
   ]
  },
  {
   "cell_type": "markdown",
   "id": "5877bbb6",
   "metadata": {},
   "source": [
    "### Dataset pre-processing"
   ]
  },
  {
   "cell_type": "code",
   "execution_count": 4,
   "id": "cd855e03",
   "metadata": {},
   "outputs": [
    {
     "data": {
      "text/html": [
       "<div>\n",
       "<style scoped>\n",
       "    .dataframe tbody tr th:only-of-type {\n",
       "        vertical-align: middle;\n",
       "    }\n",
       "\n",
       "    .dataframe tbody tr th {\n",
       "        vertical-align: top;\n",
       "    }\n",
       "\n",
       "    .dataframe thead th {\n",
       "        text-align: right;\n",
       "    }\n",
       "</style>\n",
       "<table border=\"1\" class=\"dataframe\">\n",
       "  <thead>\n",
       "    <tr style=\"text-align: right;\">\n",
       "      <th></th>\n",
       "      <th>age</th>\n",
       "      <th>sex</th>\n",
       "      <th>cp</th>\n",
       "      <th>trestbps</th>\n",
       "      <th>chol</th>\n",
       "      <th>fbs</th>\n",
       "      <th>restecg</th>\n",
       "      <th>thalach</th>\n",
       "      <th>exang</th>\n",
       "      <th>oldpeak</th>\n",
       "      <th>slope</th>\n",
       "      <th>ca</th>\n",
       "      <th>thal</th>\n",
       "      <th>target</th>\n",
       "    </tr>\n",
       "  </thead>\n",
       "  <tbody>\n",
       "    <tr>\n",
       "      <th>0</th>\n",
       "      <td>52</td>\n",
       "      <td>1</td>\n",
       "      <td>0</td>\n",
       "      <td>125</td>\n",
       "      <td>212</td>\n",
       "      <td>0</td>\n",
       "      <td>1</td>\n",
       "      <td>168</td>\n",
       "      <td>0</td>\n",
       "      <td>1.0</td>\n",
       "      <td>2</td>\n",
       "      <td>2</td>\n",
       "      <td>3</td>\n",
       "      <td>0</td>\n",
       "    </tr>\n",
       "    <tr>\n",
       "      <th>1</th>\n",
       "      <td>53</td>\n",
       "      <td>1</td>\n",
       "      <td>0</td>\n",
       "      <td>140</td>\n",
       "      <td>203</td>\n",
       "      <td>1</td>\n",
       "      <td>0</td>\n",
       "      <td>155</td>\n",
       "      <td>1</td>\n",
       "      <td>3.1</td>\n",
       "      <td>0</td>\n",
       "      <td>0</td>\n",
       "      <td>3</td>\n",
       "      <td>0</td>\n",
       "    </tr>\n",
       "    <tr>\n",
       "      <th>2</th>\n",
       "      <td>70</td>\n",
       "      <td>1</td>\n",
       "      <td>0</td>\n",
       "      <td>145</td>\n",
       "      <td>174</td>\n",
       "      <td>0</td>\n",
       "      <td>1</td>\n",
       "      <td>125</td>\n",
       "      <td>1</td>\n",
       "      <td>2.6</td>\n",
       "      <td>0</td>\n",
       "      <td>0</td>\n",
       "      <td>3</td>\n",
       "      <td>0</td>\n",
       "    </tr>\n",
       "    <tr>\n",
       "      <th>3</th>\n",
       "      <td>61</td>\n",
       "      <td>1</td>\n",
       "      <td>0</td>\n",
       "      <td>148</td>\n",
       "      <td>203</td>\n",
       "      <td>0</td>\n",
       "      <td>1</td>\n",
       "      <td>161</td>\n",
       "      <td>0</td>\n",
       "      <td>0.0</td>\n",
       "      <td>2</td>\n",
       "      <td>1</td>\n",
       "      <td>3</td>\n",
       "      <td>0</td>\n",
       "    </tr>\n",
       "    <tr>\n",
       "      <th>4</th>\n",
       "      <td>62</td>\n",
       "      <td>0</td>\n",
       "      <td>0</td>\n",
       "      <td>138</td>\n",
       "      <td>294</td>\n",
       "      <td>1</td>\n",
       "      <td>1</td>\n",
       "      <td>106</td>\n",
       "      <td>0</td>\n",
       "      <td>1.9</td>\n",
       "      <td>1</td>\n",
       "      <td>3</td>\n",
       "      <td>2</td>\n",
       "      <td>0</td>\n",
       "    </tr>\n",
       "  </tbody>\n",
       "</table>\n",
       "</div>"
      ],
      "text/plain": [
       "   age  sex  cp  trestbps  chol  fbs  restecg  thalach  exang  oldpeak  slope  \\\n",
       "0   52    1   0       125   212    0        1      168      0      1.0      2   \n",
       "1   53    1   0       140   203    1        0      155      1      3.1      0   \n",
       "2   70    1   0       145   174    0        1      125      1      2.6      0   \n",
       "3   61    1   0       148   203    0        1      161      0      0.0      2   \n",
       "4   62    0   0       138   294    1        1      106      0      1.9      1   \n",
       "\n",
       "   ca  thal  target  \n",
       "0   2     3       0  \n",
       "1   0     3       0  \n",
       "2   0     3       0  \n",
       "3   1     3       0  \n",
       "4   3     2       0  "
      ]
     },
     "execution_count": 4,
     "metadata": {},
     "output_type": "execute_result"
    }
   ],
   "source": [
    "df.head()"
   ]
  },
  {
   "cell_type": "code",
   "execution_count": 5,
   "id": "6f27ae61",
   "metadata": {},
   "outputs": [
    {
     "data": {
      "text/html": [
       "<div>\n",
       "<style scoped>\n",
       "    .dataframe tbody tr th:only-of-type {\n",
       "        vertical-align: middle;\n",
       "    }\n",
       "\n",
       "    .dataframe tbody tr th {\n",
       "        vertical-align: top;\n",
       "    }\n",
       "\n",
       "    .dataframe thead th {\n",
       "        text-align: right;\n",
       "    }\n",
       "</style>\n",
       "<table border=\"1\" class=\"dataframe\">\n",
       "  <thead>\n",
       "    <tr style=\"text-align: right;\">\n",
       "      <th></th>\n",
       "      <th>age</th>\n",
       "      <th>sex</th>\n",
       "      <th>cp</th>\n",
       "      <th>trestbps</th>\n",
       "      <th>chol</th>\n",
       "      <th>fbs</th>\n",
       "      <th>restecg</th>\n",
       "      <th>thalach</th>\n",
       "      <th>exang</th>\n",
       "      <th>oldpeak</th>\n",
       "      <th>slope</th>\n",
       "      <th>ca</th>\n",
       "      <th>thal</th>\n",
       "      <th>target</th>\n",
       "    </tr>\n",
       "  </thead>\n",
       "  <tbody>\n",
       "    <tr>\n",
       "      <th>1020</th>\n",
       "      <td>59</td>\n",
       "      <td>1</td>\n",
       "      <td>1</td>\n",
       "      <td>140</td>\n",
       "      <td>221</td>\n",
       "      <td>0</td>\n",
       "      <td>1</td>\n",
       "      <td>164</td>\n",
       "      <td>1</td>\n",
       "      <td>0.0</td>\n",
       "      <td>2</td>\n",
       "      <td>0</td>\n",
       "      <td>2</td>\n",
       "      <td>1</td>\n",
       "    </tr>\n",
       "    <tr>\n",
       "      <th>1021</th>\n",
       "      <td>60</td>\n",
       "      <td>1</td>\n",
       "      <td>0</td>\n",
       "      <td>125</td>\n",
       "      <td>258</td>\n",
       "      <td>0</td>\n",
       "      <td>0</td>\n",
       "      <td>141</td>\n",
       "      <td>1</td>\n",
       "      <td>2.8</td>\n",
       "      <td>1</td>\n",
       "      <td>1</td>\n",
       "      <td>3</td>\n",
       "      <td>0</td>\n",
       "    </tr>\n",
       "    <tr>\n",
       "      <th>1022</th>\n",
       "      <td>47</td>\n",
       "      <td>1</td>\n",
       "      <td>0</td>\n",
       "      <td>110</td>\n",
       "      <td>275</td>\n",
       "      <td>0</td>\n",
       "      <td>0</td>\n",
       "      <td>118</td>\n",
       "      <td>1</td>\n",
       "      <td>1.0</td>\n",
       "      <td>1</td>\n",
       "      <td>1</td>\n",
       "      <td>2</td>\n",
       "      <td>0</td>\n",
       "    </tr>\n",
       "    <tr>\n",
       "      <th>1023</th>\n",
       "      <td>50</td>\n",
       "      <td>0</td>\n",
       "      <td>0</td>\n",
       "      <td>110</td>\n",
       "      <td>254</td>\n",
       "      <td>0</td>\n",
       "      <td>0</td>\n",
       "      <td>159</td>\n",
       "      <td>0</td>\n",
       "      <td>0.0</td>\n",
       "      <td>2</td>\n",
       "      <td>0</td>\n",
       "      <td>2</td>\n",
       "      <td>1</td>\n",
       "    </tr>\n",
       "    <tr>\n",
       "      <th>1024</th>\n",
       "      <td>54</td>\n",
       "      <td>1</td>\n",
       "      <td>0</td>\n",
       "      <td>120</td>\n",
       "      <td>188</td>\n",
       "      <td>0</td>\n",
       "      <td>1</td>\n",
       "      <td>113</td>\n",
       "      <td>0</td>\n",
       "      <td>1.4</td>\n",
       "      <td>1</td>\n",
       "      <td>1</td>\n",
       "      <td>3</td>\n",
       "      <td>0</td>\n",
       "    </tr>\n",
       "  </tbody>\n",
       "</table>\n",
       "</div>"
      ],
      "text/plain": [
       "      age  sex  cp  trestbps  chol  fbs  restecg  thalach  exang  oldpeak  \\\n",
       "1020   59    1   1       140   221    0        1      164      1      0.0   \n",
       "1021   60    1   0       125   258    0        0      141      1      2.8   \n",
       "1022   47    1   0       110   275    0        0      118      1      1.0   \n",
       "1023   50    0   0       110   254    0        0      159      0      0.0   \n",
       "1024   54    1   0       120   188    0        1      113      0      1.4   \n",
       "\n",
       "      slope  ca  thal  target  \n",
       "1020      2   0     2       1  \n",
       "1021      1   1     3       0  \n",
       "1022      1   1     2       0  \n",
       "1023      2   0     2       1  \n",
       "1024      1   1     3       0  "
      ]
     },
     "execution_count": 5,
     "metadata": {},
     "output_type": "execute_result"
    }
   ],
   "source": [
    "df.tail()"
   ]
  },
  {
   "cell_type": "code",
   "execution_count": 6,
   "id": "fd28e8e1",
   "metadata": {},
   "outputs": [
    {
     "data": {
      "text/plain": [
       "(1025, 14)"
      ]
     },
     "execution_count": 6,
     "metadata": {},
     "output_type": "execute_result"
    }
   ],
   "source": [
    "df.shape"
   ]
  },
  {
   "cell_type": "markdown",
   "id": "cbd4a314",
   "metadata": {},
   "source": [
    "#### Dropping duplicate "
   ]
  },
  {
   "cell_type": "code",
   "execution_count": 7,
   "id": "4c3704ba",
   "metadata": {
    "scrolled": true
   },
   "outputs": [],
   "source": [
    "Heart_disease_df=df.drop_duplicates()"
   ]
  },
  {
   "cell_type": "code",
   "execution_count": 8,
   "id": "61af49f0",
   "metadata": {},
   "outputs": [
    {
     "data": {
      "text/plain": [
       "(302, 14)"
      ]
     },
     "execution_count": 8,
     "metadata": {},
     "output_type": "execute_result"
    }
   ],
   "source": [
    "Heart_disease_df.shape"
   ]
  },
  {
   "cell_type": "code",
   "execution_count": 9,
   "id": "b5239997",
   "metadata": {},
   "outputs": [
    {
     "data": {
      "text/plain": [
       "<bound method DataFrame.info of      age  sex  cp  trestbps  chol  fbs  restecg  thalach  exang  oldpeak  \\\n",
       "0     52    1   0       125   212    0        1      168      0      1.0   \n",
       "1     53    1   0       140   203    1        0      155      1      3.1   \n",
       "2     70    1   0       145   174    0        1      125      1      2.6   \n",
       "3     61    1   0       148   203    0        1      161      0      0.0   \n",
       "4     62    0   0       138   294    1        1      106      0      1.9   \n",
       "..   ...  ...  ..       ...   ...  ...      ...      ...    ...      ...   \n",
       "723   68    0   2       120   211    0        0      115      0      1.5   \n",
       "733   44    0   2       108   141    0        1      175      0      0.6   \n",
       "739   52    1   0       128   255    0        1      161      1      0.0   \n",
       "843   59    1   3       160   273    0        0      125      0      0.0   \n",
       "878   54    1   0       120   188    0        1      113      0      1.4   \n",
       "\n",
       "     slope  ca  thal  target  \n",
       "0        2   2     3       0  \n",
       "1        0   0     3       0  \n",
       "2        0   0     3       0  \n",
       "3        2   1     3       0  \n",
       "4        1   3     2       0  \n",
       "..     ...  ..   ...     ...  \n",
       "723      1   0     2       1  \n",
       "733      1   0     2       1  \n",
       "739      2   1     3       0  \n",
       "843      2   0     2       0  \n",
       "878      1   1     3       0  \n",
       "\n",
       "[302 rows x 14 columns]>"
      ]
     },
     "execution_count": 9,
     "metadata": {},
     "output_type": "execute_result"
    }
   ],
   "source": [
    "Heart_disease_df.info"
   ]
  },
  {
   "cell_type": "code",
   "execution_count": 10,
   "id": "27453d9e",
   "metadata": {},
   "outputs": [
    {
     "data": {
      "text/html": [
       "<div>\n",
       "<style scoped>\n",
       "    .dataframe tbody tr th:only-of-type {\n",
       "        vertical-align: middle;\n",
       "    }\n",
       "\n",
       "    .dataframe tbody tr th {\n",
       "        vertical-align: top;\n",
       "    }\n",
       "\n",
       "    .dataframe thead th {\n",
       "        text-align: right;\n",
       "    }\n",
       "</style>\n",
       "<table border=\"1\" class=\"dataframe\">\n",
       "  <thead>\n",
       "    <tr style=\"text-align: right;\">\n",
       "      <th></th>\n",
       "      <th>age</th>\n",
       "      <th>sex</th>\n",
       "      <th>cp</th>\n",
       "      <th>trestbps</th>\n",
       "      <th>chol</th>\n",
       "      <th>fbs</th>\n",
       "      <th>restecg</th>\n",
       "      <th>thalach</th>\n",
       "      <th>exang</th>\n",
       "      <th>oldpeak</th>\n",
       "      <th>slope</th>\n",
       "      <th>ca</th>\n",
       "      <th>thal</th>\n",
       "      <th>target</th>\n",
       "    </tr>\n",
       "  </thead>\n",
       "  <tbody>\n",
       "    <tr>\n",
       "      <th>count</th>\n",
       "      <td>302.00000</td>\n",
       "      <td>302.000000</td>\n",
       "      <td>302.000000</td>\n",
       "      <td>302.000000</td>\n",
       "      <td>302.000000</td>\n",
       "      <td>302.000000</td>\n",
       "      <td>302.000000</td>\n",
       "      <td>302.000000</td>\n",
       "      <td>302.000000</td>\n",
       "      <td>302.000000</td>\n",
       "      <td>302.000000</td>\n",
       "      <td>302.000000</td>\n",
       "      <td>302.000000</td>\n",
       "      <td>302.000000</td>\n",
       "    </tr>\n",
       "    <tr>\n",
       "      <th>mean</th>\n",
       "      <td>54.42053</td>\n",
       "      <td>0.682119</td>\n",
       "      <td>0.963576</td>\n",
       "      <td>131.602649</td>\n",
       "      <td>246.500000</td>\n",
       "      <td>0.149007</td>\n",
       "      <td>0.526490</td>\n",
       "      <td>149.569536</td>\n",
       "      <td>0.327815</td>\n",
       "      <td>1.043046</td>\n",
       "      <td>1.397351</td>\n",
       "      <td>0.718543</td>\n",
       "      <td>2.314570</td>\n",
       "      <td>0.543046</td>\n",
       "    </tr>\n",
       "    <tr>\n",
       "      <th>std</th>\n",
       "      <td>9.04797</td>\n",
       "      <td>0.466426</td>\n",
       "      <td>1.032044</td>\n",
       "      <td>17.563394</td>\n",
       "      <td>51.753489</td>\n",
       "      <td>0.356686</td>\n",
       "      <td>0.526027</td>\n",
       "      <td>22.903527</td>\n",
       "      <td>0.470196</td>\n",
       "      <td>1.161452</td>\n",
       "      <td>0.616274</td>\n",
       "      <td>1.006748</td>\n",
       "      <td>0.613026</td>\n",
       "      <td>0.498970</td>\n",
       "    </tr>\n",
       "    <tr>\n",
       "      <th>min</th>\n",
       "      <td>29.00000</td>\n",
       "      <td>0.000000</td>\n",
       "      <td>0.000000</td>\n",
       "      <td>94.000000</td>\n",
       "      <td>126.000000</td>\n",
       "      <td>0.000000</td>\n",
       "      <td>0.000000</td>\n",
       "      <td>71.000000</td>\n",
       "      <td>0.000000</td>\n",
       "      <td>0.000000</td>\n",
       "      <td>0.000000</td>\n",
       "      <td>0.000000</td>\n",
       "      <td>0.000000</td>\n",
       "      <td>0.000000</td>\n",
       "    </tr>\n",
       "    <tr>\n",
       "      <th>25%</th>\n",
       "      <td>48.00000</td>\n",
       "      <td>0.000000</td>\n",
       "      <td>0.000000</td>\n",
       "      <td>120.000000</td>\n",
       "      <td>211.000000</td>\n",
       "      <td>0.000000</td>\n",
       "      <td>0.000000</td>\n",
       "      <td>133.250000</td>\n",
       "      <td>0.000000</td>\n",
       "      <td>0.000000</td>\n",
       "      <td>1.000000</td>\n",
       "      <td>0.000000</td>\n",
       "      <td>2.000000</td>\n",
       "      <td>0.000000</td>\n",
       "    </tr>\n",
       "    <tr>\n",
       "      <th>50%</th>\n",
       "      <td>55.50000</td>\n",
       "      <td>1.000000</td>\n",
       "      <td>1.000000</td>\n",
       "      <td>130.000000</td>\n",
       "      <td>240.500000</td>\n",
       "      <td>0.000000</td>\n",
       "      <td>1.000000</td>\n",
       "      <td>152.500000</td>\n",
       "      <td>0.000000</td>\n",
       "      <td>0.800000</td>\n",
       "      <td>1.000000</td>\n",
       "      <td>0.000000</td>\n",
       "      <td>2.000000</td>\n",
       "      <td>1.000000</td>\n",
       "    </tr>\n",
       "    <tr>\n",
       "      <th>75%</th>\n",
       "      <td>61.00000</td>\n",
       "      <td>1.000000</td>\n",
       "      <td>2.000000</td>\n",
       "      <td>140.000000</td>\n",
       "      <td>274.750000</td>\n",
       "      <td>0.000000</td>\n",
       "      <td>1.000000</td>\n",
       "      <td>166.000000</td>\n",
       "      <td>1.000000</td>\n",
       "      <td>1.600000</td>\n",
       "      <td>2.000000</td>\n",
       "      <td>1.000000</td>\n",
       "      <td>3.000000</td>\n",
       "      <td>1.000000</td>\n",
       "    </tr>\n",
       "    <tr>\n",
       "      <th>max</th>\n",
       "      <td>77.00000</td>\n",
       "      <td>1.000000</td>\n",
       "      <td>3.000000</td>\n",
       "      <td>200.000000</td>\n",
       "      <td>564.000000</td>\n",
       "      <td>1.000000</td>\n",
       "      <td>2.000000</td>\n",
       "      <td>202.000000</td>\n",
       "      <td>1.000000</td>\n",
       "      <td>6.200000</td>\n",
       "      <td>2.000000</td>\n",
       "      <td>4.000000</td>\n",
       "      <td>3.000000</td>\n",
       "      <td>1.000000</td>\n",
       "    </tr>\n",
       "  </tbody>\n",
       "</table>\n",
       "</div>"
      ],
      "text/plain": [
       "             age         sex          cp    trestbps        chol         fbs  \\\n",
       "count  302.00000  302.000000  302.000000  302.000000  302.000000  302.000000   \n",
       "mean    54.42053    0.682119    0.963576  131.602649  246.500000    0.149007   \n",
       "std      9.04797    0.466426    1.032044   17.563394   51.753489    0.356686   \n",
       "min     29.00000    0.000000    0.000000   94.000000  126.000000    0.000000   \n",
       "25%     48.00000    0.000000    0.000000  120.000000  211.000000    0.000000   \n",
       "50%     55.50000    1.000000    1.000000  130.000000  240.500000    0.000000   \n",
       "75%     61.00000    1.000000    2.000000  140.000000  274.750000    0.000000   \n",
       "max     77.00000    1.000000    3.000000  200.000000  564.000000    1.000000   \n",
       "\n",
       "          restecg     thalach       exang     oldpeak       slope          ca  \\\n",
       "count  302.000000  302.000000  302.000000  302.000000  302.000000  302.000000   \n",
       "mean     0.526490  149.569536    0.327815    1.043046    1.397351    0.718543   \n",
       "std      0.526027   22.903527    0.470196    1.161452    0.616274    1.006748   \n",
       "min      0.000000   71.000000    0.000000    0.000000    0.000000    0.000000   \n",
       "25%      0.000000  133.250000    0.000000    0.000000    1.000000    0.000000   \n",
       "50%      1.000000  152.500000    0.000000    0.800000    1.000000    0.000000   \n",
       "75%      1.000000  166.000000    1.000000    1.600000    2.000000    1.000000   \n",
       "max      2.000000  202.000000    1.000000    6.200000    2.000000    4.000000   \n",
       "\n",
       "             thal      target  \n",
       "count  302.000000  302.000000  \n",
       "mean     2.314570    0.543046  \n",
       "std      0.613026    0.498970  \n",
       "min      0.000000    0.000000  \n",
       "25%      2.000000    0.000000  \n",
       "50%      2.000000    1.000000  \n",
       "75%      3.000000    1.000000  \n",
       "max      3.000000    1.000000  "
      ]
     },
     "execution_count": 10,
     "metadata": {},
     "output_type": "execute_result"
    }
   ],
   "source": [
    "Heart_disease_df.describe()"
   ]
  },
  {
   "cell_type": "code",
   "execution_count": 11,
   "id": "c4bf3163",
   "metadata": {},
   "outputs": [
    {
     "data": {
      "text/plain": [
       "age         0\n",
       "sex         0\n",
       "cp          0\n",
       "trestbps    0\n",
       "chol        0\n",
       "fbs         0\n",
       "restecg     0\n",
       "thalach     0\n",
       "exang       0\n",
       "oldpeak     0\n",
       "slope       0\n",
       "ca          0\n",
       "thal        0\n",
       "target      0\n",
       "dtype: int64"
      ]
     },
     "execution_count": 11,
     "metadata": {},
     "output_type": "execute_result"
    }
   ],
   "source": [
    "Heart_disease_df.isnull().sum()"
   ]
  },
  {
   "cell_type": "code",
   "execution_count": 12,
   "id": "3509076f",
   "metadata": {},
   "outputs": [
    {
     "data": {
      "text/plain": [
       "target\n",
       "1    164\n",
       "0    138\n",
       "Name: count, dtype: int64"
      ]
     },
     "execution_count": 12,
     "metadata": {},
     "output_type": "execute_result"
    }
   ],
   "source": [
    "Heart_disease_df['target'].value_counts()"
   ]
  },
  {
   "cell_type": "markdown",
   "id": "e162cffc",
   "metadata": {},
   "source": [
    "##### 1 -----> Patient with heart diseases\n",
    "##### 0 -----> Patient without heart diseases"
   ]
  },
  {
   "cell_type": "markdown",
   "id": "d609a162",
   "metadata": {},
   "source": [
    "### Data Visualization"
   ]
  },
  {
   "cell_type": "markdown",
   "id": "db33f3a3",
   "metadata": {},
   "source": [
    "#### Correlation "
   ]
  },
  {
   "cell_type": "code",
   "execution_count": 13,
   "id": "b3809195",
   "metadata": {},
   "outputs": [],
   "source": [
    "Heart_disease_df_corr=Heart_disease_df.corr()"
   ]
  },
  {
   "cell_type": "code",
   "execution_count": 14,
   "id": "e97aed30",
   "metadata": {
    "scrolled": true
   },
   "outputs": [
    {
     "data": {
      "text/html": [
       "<div>\n",
       "<style scoped>\n",
       "    .dataframe tbody tr th:only-of-type {\n",
       "        vertical-align: middle;\n",
       "    }\n",
       "\n",
       "    .dataframe tbody tr th {\n",
       "        vertical-align: top;\n",
       "    }\n",
       "\n",
       "    .dataframe thead th {\n",
       "        text-align: right;\n",
       "    }\n",
       "</style>\n",
       "<table border=\"1\" class=\"dataframe\">\n",
       "  <thead>\n",
       "    <tr style=\"text-align: right;\">\n",
       "      <th></th>\n",
       "      <th>age</th>\n",
       "      <th>sex</th>\n",
       "      <th>cp</th>\n",
       "      <th>trestbps</th>\n",
       "      <th>chol</th>\n",
       "      <th>fbs</th>\n",
       "      <th>restecg</th>\n",
       "      <th>thalach</th>\n",
       "      <th>exang</th>\n",
       "      <th>oldpeak</th>\n",
       "      <th>slope</th>\n",
       "      <th>ca</th>\n",
       "      <th>thal</th>\n",
       "      <th>target</th>\n",
       "    </tr>\n",
       "  </thead>\n",
       "  <tbody>\n",
       "    <tr>\n",
       "      <th>age</th>\n",
       "      <td>1.000000</td>\n",
       "      <td>-0.094962</td>\n",
       "      <td>-0.063107</td>\n",
       "      <td>0.283121</td>\n",
       "      <td>0.207216</td>\n",
       "      <td>0.119492</td>\n",
       "      <td>-0.111590</td>\n",
       "      <td>-0.395235</td>\n",
       "      <td>0.093216</td>\n",
       "      <td>0.206040</td>\n",
       "      <td>-0.164124</td>\n",
       "      <td>0.302261</td>\n",
       "      <td>0.065317</td>\n",
       "      <td>-0.221476</td>\n",
       "    </tr>\n",
       "    <tr>\n",
       "      <th>sex</th>\n",
       "      <td>-0.094962</td>\n",
       "      <td>1.000000</td>\n",
       "      <td>-0.051740</td>\n",
       "      <td>-0.057647</td>\n",
       "      <td>-0.195571</td>\n",
       "      <td>0.046022</td>\n",
       "      <td>-0.060351</td>\n",
       "      <td>-0.046439</td>\n",
       "      <td>0.143460</td>\n",
       "      <td>0.098322</td>\n",
       "      <td>-0.032990</td>\n",
       "      <td>0.113060</td>\n",
       "      <td>0.211452</td>\n",
       "      <td>-0.283609</td>\n",
       "    </tr>\n",
       "    <tr>\n",
       "      <th>cp</th>\n",
       "      <td>-0.063107</td>\n",
       "      <td>-0.051740</td>\n",
       "      <td>1.000000</td>\n",
       "      <td>0.046486</td>\n",
       "      <td>-0.072682</td>\n",
       "      <td>0.096018</td>\n",
       "      <td>0.041561</td>\n",
       "      <td>0.293367</td>\n",
       "      <td>-0.392937</td>\n",
       "      <td>-0.146692</td>\n",
       "      <td>0.116854</td>\n",
       "      <td>-0.195356</td>\n",
       "      <td>-0.160370</td>\n",
       "      <td>0.432080</td>\n",
       "    </tr>\n",
       "    <tr>\n",
       "      <th>trestbps</th>\n",
       "      <td>0.283121</td>\n",
       "      <td>-0.057647</td>\n",
       "      <td>0.046486</td>\n",
       "      <td>1.000000</td>\n",
       "      <td>0.125256</td>\n",
       "      <td>0.178125</td>\n",
       "      <td>-0.115367</td>\n",
       "      <td>-0.048023</td>\n",
       "      <td>0.068526</td>\n",
       "      <td>0.194600</td>\n",
       "      <td>-0.122873</td>\n",
       "      <td>0.099248</td>\n",
       "      <td>0.062870</td>\n",
       "      <td>-0.146269</td>\n",
       "    </tr>\n",
       "    <tr>\n",
       "      <th>chol</th>\n",
       "      <td>0.207216</td>\n",
       "      <td>-0.195571</td>\n",
       "      <td>-0.072682</td>\n",
       "      <td>0.125256</td>\n",
       "      <td>1.000000</td>\n",
       "      <td>0.011428</td>\n",
       "      <td>-0.147602</td>\n",
       "      <td>-0.005308</td>\n",
       "      <td>0.064099</td>\n",
       "      <td>0.050086</td>\n",
       "      <td>0.000417</td>\n",
       "      <td>0.086878</td>\n",
       "      <td>0.096810</td>\n",
       "      <td>-0.081437</td>\n",
       "    </tr>\n",
       "    <tr>\n",
       "      <th>fbs</th>\n",
       "      <td>0.119492</td>\n",
       "      <td>0.046022</td>\n",
       "      <td>0.096018</td>\n",
       "      <td>0.178125</td>\n",
       "      <td>0.011428</td>\n",
       "      <td>1.000000</td>\n",
       "      <td>-0.083081</td>\n",
       "      <td>-0.007169</td>\n",
       "      <td>0.024729</td>\n",
       "      <td>0.004514</td>\n",
       "      <td>-0.058654</td>\n",
       "      <td>0.144935</td>\n",
       "      <td>-0.032752</td>\n",
       "      <td>-0.026826</td>\n",
       "    </tr>\n",
       "    <tr>\n",
       "      <th>restecg</th>\n",
       "      <td>-0.111590</td>\n",
       "      <td>-0.060351</td>\n",
       "      <td>0.041561</td>\n",
       "      <td>-0.115367</td>\n",
       "      <td>-0.147602</td>\n",
       "      <td>-0.083081</td>\n",
       "      <td>1.000000</td>\n",
       "      <td>0.041210</td>\n",
       "      <td>-0.068807</td>\n",
       "      <td>-0.056251</td>\n",
       "      <td>0.090402</td>\n",
       "      <td>-0.083112</td>\n",
       "      <td>-0.010473</td>\n",
       "      <td>0.134874</td>\n",
       "    </tr>\n",
       "    <tr>\n",
       "      <th>thalach</th>\n",
       "      <td>-0.395235</td>\n",
       "      <td>-0.046439</td>\n",
       "      <td>0.293367</td>\n",
       "      <td>-0.048023</td>\n",
       "      <td>-0.005308</td>\n",
       "      <td>-0.007169</td>\n",
       "      <td>0.041210</td>\n",
       "      <td>1.000000</td>\n",
       "      <td>-0.377411</td>\n",
       "      <td>-0.342201</td>\n",
       "      <td>0.384754</td>\n",
       "      <td>-0.228311</td>\n",
       "      <td>-0.094910</td>\n",
       "      <td>0.419955</td>\n",
       "    </tr>\n",
       "    <tr>\n",
       "      <th>exang</th>\n",
       "      <td>0.093216</td>\n",
       "      <td>0.143460</td>\n",
       "      <td>-0.392937</td>\n",
       "      <td>0.068526</td>\n",
       "      <td>0.064099</td>\n",
       "      <td>0.024729</td>\n",
       "      <td>-0.068807</td>\n",
       "      <td>-0.377411</td>\n",
       "      <td>1.000000</td>\n",
       "      <td>0.286766</td>\n",
       "      <td>-0.256106</td>\n",
       "      <td>0.125377</td>\n",
       "      <td>0.205826</td>\n",
       "      <td>-0.435601</td>\n",
       "    </tr>\n",
       "    <tr>\n",
       "      <th>oldpeak</th>\n",
       "      <td>0.206040</td>\n",
       "      <td>0.098322</td>\n",
       "      <td>-0.146692</td>\n",
       "      <td>0.194600</td>\n",
       "      <td>0.050086</td>\n",
       "      <td>0.004514</td>\n",
       "      <td>-0.056251</td>\n",
       "      <td>-0.342201</td>\n",
       "      <td>0.286766</td>\n",
       "      <td>1.000000</td>\n",
       "      <td>-0.576314</td>\n",
       "      <td>0.236560</td>\n",
       "      <td>0.209090</td>\n",
       "      <td>-0.429146</td>\n",
       "    </tr>\n",
       "    <tr>\n",
       "      <th>slope</th>\n",
       "      <td>-0.164124</td>\n",
       "      <td>-0.032990</td>\n",
       "      <td>0.116854</td>\n",
       "      <td>-0.122873</td>\n",
       "      <td>0.000417</td>\n",
       "      <td>-0.058654</td>\n",
       "      <td>0.090402</td>\n",
       "      <td>0.384754</td>\n",
       "      <td>-0.256106</td>\n",
       "      <td>-0.576314</td>\n",
       "      <td>1.000000</td>\n",
       "      <td>-0.092236</td>\n",
       "      <td>-0.103314</td>\n",
       "      <td>0.343940</td>\n",
       "    </tr>\n",
       "    <tr>\n",
       "      <th>ca</th>\n",
       "      <td>0.302261</td>\n",
       "      <td>0.113060</td>\n",
       "      <td>-0.195356</td>\n",
       "      <td>0.099248</td>\n",
       "      <td>0.086878</td>\n",
       "      <td>0.144935</td>\n",
       "      <td>-0.083112</td>\n",
       "      <td>-0.228311</td>\n",
       "      <td>0.125377</td>\n",
       "      <td>0.236560</td>\n",
       "      <td>-0.092236</td>\n",
       "      <td>1.000000</td>\n",
       "      <td>0.160085</td>\n",
       "      <td>-0.408992</td>\n",
       "    </tr>\n",
       "    <tr>\n",
       "      <th>thal</th>\n",
       "      <td>0.065317</td>\n",
       "      <td>0.211452</td>\n",
       "      <td>-0.160370</td>\n",
       "      <td>0.062870</td>\n",
       "      <td>0.096810</td>\n",
       "      <td>-0.032752</td>\n",
       "      <td>-0.010473</td>\n",
       "      <td>-0.094910</td>\n",
       "      <td>0.205826</td>\n",
       "      <td>0.209090</td>\n",
       "      <td>-0.103314</td>\n",
       "      <td>0.160085</td>\n",
       "      <td>1.000000</td>\n",
       "      <td>-0.343101</td>\n",
       "    </tr>\n",
       "    <tr>\n",
       "      <th>target</th>\n",
       "      <td>-0.221476</td>\n",
       "      <td>-0.283609</td>\n",
       "      <td>0.432080</td>\n",
       "      <td>-0.146269</td>\n",
       "      <td>-0.081437</td>\n",
       "      <td>-0.026826</td>\n",
       "      <td>0.134874</td>\n",
       "      <td>0.419955</td>\n",
       "      <td>-0.435601</td>\n",
       "      <td>-0.429146</td>\n",
       "      <td>0.343940</td>\n",
       "      <td>-0.408992</td>\n",
       "      <td>-0.343101</td>\n",
       "      <td>1.000000</td>\n",
       "    </tr>\n",
       "  </tbody>\n",
       "</table>\n",
       "</div>"
      ],
      "text/plain": [
       "               age       sex        cp  trestbps      chol       fbs  \\\n",
       "age       1.000000 -0.094962 -0.063107  0.283121  0.207216  0.119492   \n",
       "sex      -0.094962  1.000000 -0.051740 -0.057647 -0.195571  0.046022   \n",
       "cp       -0.063107 -0.051740  1.000000  0.046486 -0.072682  0.096018   \n",
       "trestbps  0.283121 -0.057647  0.046486  1.000000  0.125256  0.178125   \n",
       "chol      0.207216 -0.195571 -0.072682  0.125256  1.000000  0.011428   \n",
       "fbs       0.119492  0.046022  0.096018  0.178125  0.011428  1.000000   \n",
       "restecg  -0.111590 -0.060351  0.041561 -0.115367 -0.147602 -0.083081   \n",
       "thalach  -0.395235 -0.046439  0.293367 -0.048023 -0.005308 -0.007169   \n",
       "exang     0.093216  0.143460 -0.392937  0.068526  0.064099  0.024729   \n",
       "oldpeak   0.206040  0.098322 -0.146692  0.194600  0.050086  0.004514   \n",
       "slope    -0.164124 -0.032990  0.116854 -0.122873  0.000417 -0.058654   \n",
       "ca        0.302261  0.113060 -0.195356  0.099248  0.086878  0.144935   \n",
       "thal      0.065317  0.211452 -0.160370  0.062870  0.096810 -0.032752   \n",
       "target   -0.221476 -0.283609  0.432080 -0.146269 -0.081437 -0.026826   \n",
       "\n",
       "           restecg   thalach     exang   oldpeak     slope        ca  \\\n",
       "age      -0.111590 -0.395235  0.093216  0.206040 -0.164124  0.302261   \n",
       "sex      -0.060351 -0.046439  0.143460  0.098322 -0.032990  0.113060   \n",
       "cp        0.041561  0.293367 -0.392937 -0.146692  0.116854 -0.195356   \n",
       "trestbps -0.115367 -0.048023  0.068526  0.194600 -0.122873  0.099248   \n",
       "chol     -0.147602 -0.005308  0.064099  0.050086  0.000417  0.086878   \n",
       "fbs      -0.083081 -0.007169  0.024729  0.004514 -0.058654  0.144935   \n",
       "restecg   1.000000  0.041210 -0.068807 -0.056251  0.090402 -0.083112   \n",
       "thalach   0.041210  1.000000 -0.377411 -0.342201  0.384754 -0.228311   \n",
       "exang    -0.068807 -0.377411  1.000000  0.286766 -0.256106  0.125377   \n",
       "oldpeak  -0.056251 -0.342201  0.286766  1.000000 -0.576314  0.236560   \n",
       "slope     0.090402  0.384754 -0.256106 -0.576314  1.000000 -0.092236   \n",
       "ca       -0.083112 -0.228311  0.125377  0.236560 -0.092236  1.000000   \n",
       "thal     -0.010473 -0.094910  0.205826  0.209090 -0.103314  0.160085   \n",
       "target    0.134874  0.419955 -0.435601 -0.429146  0.343940 -0.408992   \n",
       "\n",
       "              thal    target  \n",
       "age       0.065317 -0.221476  \n",
       "sex       0.211452 -0.283609  \n",
       "cp       -0.160370  0.432080  \n",
       "trestbps  0.062870 -0.146269  \n",
       "chol      0.096810 -0.081437  \n",
       "fbs      -0.032752 -0.026826  \n",
       "restecg  -0.010473  0.134874  \n",
       "thalach  -0.094910  0.419955  \n",
       "exang     0.205826 -0.435601  \n",
       "oldpeak   0.209090 -0.429146  \n",
       "slope    -0.103314  0.343940  \n",
       "ca        0.160085 -0.408992  \n",
       "thal      1.000000 -0.343101  \n",
       "target   -0.343101  1.000000  "
      ]
     },
     "execution_count": 14,
     "metadata": {},
     "output_type": "execute_result"
    }
   ],
   "source": [
    "Heart_disease_df_corr"
   ]
  },
  {
   "cell_type": "code",
   "execution_count": 15,
   "id": "a2b25b04",
   "metadata": {},
   "outputs": [
    {
     "data": {
      "text/plain": [
       "<Axes: >"
      ]
     },
     "execution_count": 15,
     "metadata": {},
     "output_type": "execute_result"
    },
    {
     "data": {
      "image/png": "[encoded data removed]",
      "text/plain": [
       "<Figure size 1000x1000 with 2 Axes>"
      ]
     },
     "metadata": {},
     "output_type": "display_data"
    }
   ],
   "source": [
    "plt.figure(figsize=(10,10))\n",
    "sns.heatmap(Heart_disease_df_corr,cbar=True,square=True,fmt='.2f',annot=True,annot_kws={'size':8},cmap='Reds')"
   ]
  },
  {
   "cell_type": "markdown",
   "id": "4de72a60",
   "metadata": {},
   "source": [
    "### Average age of the patient "
   ]
  },
  {
   "cell_type": "code",
   "execution_count": 16,
   "id": "f5d3d442",
   "metadata": {},
   "outputs": [],
   "source": [
    "average_age=Heart_disease_df['age'].mean()"
   ]
  },
  {
   "cell_type": "code",
   "execution_count": 17,
   "id": "c2c9d44b",
   "metadata": {},
   "outputs": [
    {
     "data": {
      "text/plain": [
       "54.420529801324506"
      ]
     },
     "execution_count": 17,
     "metadata": {},
     "output_type": "execute_result"
    }
   ],
   "source": [
    "average_age"
   ]
  },
  {
   "cell_type": "code",
   "execution_count": 18,
   "id": "8ce3bdf5",
   "metadata": {},
   "outputs": [],
   "source": [
    "average_age_by_gender=Heart_disease_df.groupby('sex')['age'].mean()"
   ]
  },
  {
   "cell_type": "code",
   "execution_count": 19,
   "id": "68bd0967",
   "metadata": {},
   "outputs": [
    {
     "data": {
      "text/plain": [
       "sex\n",
       "0    55.677083\n",
       "1    53.834951\n",
       "Name: age, dtype: float64"
      ]
     },
     "execution_count": 19,
     "metadata": {},
     "output_type": "execute_result"
    }
   ],
   "source": [
    "average_age_by_gender"
   ]
  },
  {
   "cell_type": "markdown",
   "id": "37037741",
   "metadata": {},
   "source": [
    "#### 0---> Female\n",
    "#### 1----> Male"
   ]
  },
  {
   "cell_type": "code",
   "execution_count": 20,
   "id": "a9ded8f5",
   "metadata": {},
   "outputs": [
    {
     "data": {
      "image/png": "[encoded data removed]",
      "text/plain": [
       "<Figure size 600x600 with 1 Axes>"
      ]
     },
     "metadata": {},
     "output_type": "display_data"
    }
   ],
   "source": [
    "plt.figure(figsize=(6,6))\n",
    "average_age_by_gender.plot(kind='bar',color=['skyblue','salmon'])\n",
    "plt.xlabel('Gender')\n",
    "plt.ylabel('Average Age')\n",
    "plt.title('Average Age of Patients by Gender')\n",
    "plt.xticks(ticks=[0,1],labels=['Male','Female'],rotation=0)\n",
    "plt.show()"
   ]
  },
  {
   "cell_type": "markdown",
   "id": "1f87035c",
   "metadata": {},
   "source": [
    "### Average blood pressure by target"
   ]
  },
  {
   "cell_type": "code",
   "execution_count": 21,
   "id": "0ff0190c",
   "metadata": {},
   "outputs": [
    {
     "data": {
      "text/plain": [
       "target\n",
       "0    134.398551\n",
       "1    129.250000\n",
       "Name: trestbps, dtype: float64"
      ]
     },
     "execution_count": 21,
     "metadata": {},
     "output_type": "execute_result"
    }
   ],
   "source": [
    "average_bp_by_target=Heart_disease_df.groupby('target')['trestbps'].mean()\n",
    "average_bp_by_target"
   ]
  },
  {
   "cell_type": "code",
   "execution_count": 22,
   "id": "a454c575",
   "metadata": {},
   "outputs": [],
   "source": [
    "## 0-->Patient without heart diseases\n",
    "## 1--> patient with "
   ]
  },
  {
   "cell_type": "code",
   "execution_count": 23,
   "id": "e28cff69",
   "metadata": {},
   "outputs": [
    {
     "data": {
      "image/png": "[encoded data removed]",
      "text/plain": [
       "<Figure size 600x600 with 1 Axes>"
      ]
     },
     "metadata": {},
     "output_type": "display_data"
    }
   ],
   "source": [
    "plt.figure(figsize=(6,6))\n",
    "average_bp_by_target.plot(kind='bar',color=['skyblue','salmon'])\n",
    "plt.xlabel('target')\n",
    "plt.ylabel('Average blood pressure')\n",
    "plt.title('Average bp of Patients by Target')\n",
    "plt.xticks(ticks=[0,1],labels=['Without','with'],rotation=0)\n",
    "plt.show()"
   ]
  },
  {
   "cell_type": "markdown",
   "id": "6c16e59f",
   "metadata": {},
   "source": [
    "### Percentage of Patients with/without heart disease"
   ]
  },
  {
   "cell_type": "code",
   "execution_count": 24,
   "id": "dce2d7af",
   "metadata": {},
   "outputs": [],
   "source": [
    "percentage_heart_disease= Heart_disease_df['target'].mean()*100"
   ]
  },
  {
   "cell_type": "code",
   "execution_count": 25,
   "id": "a71e8969",
   "metadata": {},
   "outputs": [
    {
     "data": {
      "text/plain": [
       "54.3046357615894"
      ]
     },
     "execution_count": 25,
     "metadata": {},
     "output_type": "execute_result"
    }
   ],
   "source": [
    "percentage_heart_disease"
   ]
  },
  {
   "cell_type": "code",
   "execution_count": 26,
   "id": "0b4429e8",
   "metadata": {},
   "outputs": [
    {
     "data": {
      "image/png": "[encoded data removed]",
      "text/plain": [
       "<Figure size 800x600 with 1 Axes>"
      ]
     },
     "metadata": {},
     "output_type": "display_data"
    }
   ],
   "source": [
    "labels=['Without Heart Disease','With Heart Disease']\n",
    "sizes=[100- percentage_heart_disease,percentage_heart_disease]\n",
    "colors=['lightcoral','lightskyblue']\n",
    "plt.figure(figsize=(8,6))\n",
    "plt.pie(sizes,labels=labels,colors=colors, autopct='%1.1f%%',startangle=140)\n",
    "plt.axis('equal')\n",
    "plt.title('Percentage of Patients with Heart Disease')\n",
    "plt.show()"
   ]
  },
  {
   "cell_type": "markdown",
   "id": "bd4dcd6d",
   "metadata": {},
   "source": [
    "### Percentage of Patients with Reversible Defects "
   ]
  },
  {
   "cell_type": "code",
   "execution_count": 27,
   "id": "09a9f610",
   "metadata": {},
   "outputs": [
    {
     "data": {
      "text/plain": [
       "231.4569536423841"
      ]
     },
     "execution_count": 27,
     "metadata": {},
     "output_type": "execute_result"
    }
   ],
   "source": [
    "percentage_Reversible_Defects= Heart_disease_df['thal'].mean()*100\n",
    "percentage_Reversible_Defects"
   ]
  },
  {
   "cell_type": "code",
   "execution_count": 28,
   "id": "de5b585c",
   "metadata": {},
   "outputs": [
    {
     "data": {
      "text/plain": [
       "thal\n",
       "2    165\n",
       "3    117\n",
       "1     18\n",
       "0      2\n",
       "Name: count, dtype: int64"
      ]
     },
     "execution_count": 28,
     "metadata": {},
     "output_type": "execute_result"
    }
   ],
   "source": [
    "thal_total=Heart_disease_df['thal'].value_counts()\n",
    "thal_total"
   ]
  },
  {
   "cell_type": "code",
   "execution_count": 29,
   "id": "0d91d315",
   "metadata": {},
   "outputs": [
    {
     "data": {
      "image/png": "[encoded data removed]",
      "text/plain": [
       "<Figure size 800x600 with 1 Axes>"
      ]
     },
     "metadata": {},
     "output_type": "display_data"
    }
   ],
   "source": [
    "# Data\n",
    "thal_values = {'Thal 2': 544, 'Thal 3': 410, 'Thal 1': 64, 'Thal 0': 7}\n",
    "# Calculate total count of thal values\n",
    "total_count = sum(thal_values.values())\n",
    "# Calculate percentages\n",
    "percentages = {key: (value / total_count) * 100 for key, value in thal_values.items()}\n",
    "# Plot pie chart\n",
    "plt.figure(figsize=(8, 6))\n",
    "plt.pie(percentages.values(), labels=percentages.keys(), autopct='%1.2f%%', startangle=140)\n",
    "plt.axis('equal')  # Equal aspect ratio ensures that pie is drawn as a circle.\n",
    "plt.title('Percentage Distribution of Thal Values')\n",
    "plt.show()"
   ]
  },
  {
   "cell_type": "markdown",
   "id": "104b69b2",
   "metadata": {},
   "source": [
    "### Spliting data into training and testing"
   ]
  },
  {
   "cell_type": "code",
   "execution_count": 30,
   "id": "c23fb750",
   "metadata": {},
   "outputs": [
    {
     "data": {
      "text/html": [
       "<div>\n",
       "<style scoped>\n",
       "    .dataframe tbody tr th:only-of-type {\n",
       "        vertical-align: middle;\n",
       "    }\n",
       "\n",
       "    .dataframe tbody tr th {\n",
       "        vertical-align: top;\n",
       "    }\n",
       "\n",
       "    .dataframe thead th {\n",
       "        text-align: right;\n",
       "    }\n",
       "</style>\n",
       "<table border=\"1\" class=\"dataframe\">\n",
       "  <thead>\n",
       "    <tr style=\"text-align: right;\">\n",
       "      <th></th>\n",
       "      <th>age</th>\n",
       "      <th>sex</th>\n",
       "      <th>cp</th>\n",
       "      <th>trestbps</th>\n",
       "      <th>chol</th>\n",
       "      <th>fbs</th>\n",
       "      <th>restecg</th>\n",
       "      <th>thalach</th>\n",
       "      <th>exang</th>\n",
       "      <th>oldpeak</th>\n",
       "      <th>slope</th>\n",
       "      <th>ca</th>\n",
       "      <th>thal</th>\n",
       "      <th>target</th>\n",
       "    </tr>\n",
       "  </thead>\n",
       "  <tbody>\n",
       "    <tr>\n",
       "      <th>0</th>\n",
       "      <td>52</td>\n",
       "      <td>1</td>\n",
       "      <td>0</td>\n",
       "      <td>125</td>\n",
       "      <td>212</td>\n",
       "      <td>0</td>\n",
       "      <td>1</td>\n",
       "      <td>168</td>\n",
       "      <td>0</td>\n",
       "      <td>1.0</td>\n",
       "      <td>2</td>\n",
       "      <td>2</td>\n",
       "      <td>3</td>\n",
       "      <td>0</td>\n",
       "    </tr>\n",
       "    <tr>\n",
       "      <th>1</th>\n",
       "      <td>53</td>\n",
       "      <td>1</td>\n",
       "      <td>0</td>\n",
       "      <td>140</td>\n",
       "      <td>203</td>\n",
       "      <td>1</td>\n",
       "      <td>0</td>\n",
       "      <td>155</td>\n",
       "      <td>1</td>\n",
       "      <td>3.1</td>\n",
       "      <td>0</td>\n",
       "      <td>0</td>\n",
       "      <td>3</td>\n",
       "      <td>0</td>\n",
       "    </tr>\n",
       "    <tr>\n",
       "      <th>2</th>\n",
       "      <td>70</td>\n",
       "      <td>1</td>\n",
       "      <td>0</td>\n",
       "      <td>145</td>\n",
       "      <td>174</td>\n",
       "      <td>0</td>\n",
       "      <td>1</td>\n",
       "      <td>125</td>\n",
       "      <td>1</td>\n",
       "      <td>2.6</td>\n",
       "      <td>0</td>\n",
       "      <td>0</td>\n",
       "      <td>3</td>\n",
       "      <td>0</td>\n",
       "    </tr>\n",
       "    <tr>\n",
       "      <th>3</th>\n",
       "      <td>61</td>\n",
       "      <td>1</td>\n",
       "      <td>0</td>\n",
       "      <td>148</td>\n",
       "      <td>203</td>\n",
       "      <td>0</td>\n",
       "      <td>1</td>\n",
       "      <td>161</td>\n",
       "      <td>0</td>\n",
       "      <td>0.0</td>\n",
       "      <td>2</td>\n",
       "      <td>1</td>\n",
       "      <td>3</td>\n",
       "      <td>0</td>\n",
       "    </tr>\n",
       "    <tr>\n",
       "      <th>4</th>\n",
       "      <td>62</td>\n",
       "      <td>0</td>\n",
       "      <td>0</td>\n",
       "      <td>138</td>\n",
       "      <td>294</td>\n",
       "      <td>1</td>\n",
       "      <td>1</td>\n",
       "      <td>106</td>\n",
       "      <td>0</td>\n",
       "      <td>1.9</td>\n",
       "      <td>1</td>\n",
       "      <td>3</td>\n",
       "      <td>2</td>\n",
       "      <td>0</td>\n",
       "    </tr>\n",
       "  </tbody>\n",
       "</table>\n",
       "</div>"
      ],
      "text/plain": [
       "   age  sex  cp  trestbps  chol  fbs  restecg  thalach  exang  oldpeak  slope  \\\n",
       "0   52    1   0       125   212    0        1      168      0      1.0      2   \n",
       "1   53    1   0       140   203    1        0      155      1      3.1      0   \n",
       "2   70    1   0       145   174    0        1      125      1      2.6      0   \n",
       "3   61    1   0       148   203    0        1      161      0      0.0      2   \n",
       "4   62    0   0       138   294    1        1      106      0      1.9      1   \n",
       "\n",
       "   ca  thal  target  \n",
       "0   2     3       0  \n",
       "1   0     3       0  \n",
       "2   0     3       0  \n",
       "3   1     3       0  \n",
       "4   3     2       0  "
      ]
     },
     "execution_count": 30,
     "metadata": {},
     "output_type": "execute_result"
    }
   ],
   "source": [
    "Heart_disease_df.head()"
   ]
  },
  {
   "cell_type": "code",
   "execution_count": 31,
   "id": "f3df3ca6",
   "metadata": {},
   "outputs": [],
   "source": [
    "X=Heart_disease_df.drop(columns='target', axis=1)"
   ]
  },
  {
   "cell_type": "code",
   "execution_count": 32,
   "id": "9b85306a",
   "metadata": {},
   "outputs": [],
   "source": [
    "Y= Heart_disease_df['target']"
   ]
  },
  {
   "cell_type": "code",
   "execution_count": 33,
   "id": "7ffa8eb9",
   "metadata": {},
   "outputs": [
    {
     "name": "stdout",
     "output_type": "stream",
     "text": [
      "   age  sex  cp  trestbps  chol  fbs  restecg  thalach  exang  oldpeak  slope  \\\n",
      "0   52    1   0       125   212    0        1      168      0      1.0      2   \n",
      "1   53    1   0       140   203    1        0      155      1      3.1      0   \n",
      "2   70    1   0       145   174    0        1      125      1      2.6      0   \n",
      "3   61    1   0       148   203    0        1      161      0      0.0      2   \n",
      "4   62    0   0       138   294    1        1      106      0      1.9      1   \n",
      "\n",
      "   ca  thal  \n",
      "0   2     3  \n",
      "1   0     3  \n",
      "2   0     3  \n",
      "3   1     3  \n",
      "4   3     2  \n"
     ]
    }
   ],
   "source": [
    "print(X.head())"
   ]
  },
  {
   "cell_type": "code",
   "execution_count": 34,
   "id": "0c1fcaa6",
   "metadata": {},
   "outputs": [
    {
     "data": {
      "text/plain": [
       "0    0\n",
       "1    0\n",
       "2    0\n",
       "3    0\n",
       "4    0\n",
       "Name: target, dtype: int64"
      ]
     },
     "execution_count": 34,
     "metadata": {},
     "output_type": "execute_result"
    }
   ],
   "source": [
    "Y.head()"
   ]
  },
  {
   "cell_type": "code",
   "execution_count": 35,
   "id": "c0b7f23f",
   "metadata": {},
   "outputs": [
    {
     "data": {
      "text/plain": [
       "(302, 13)"
      ]
     },
     "execution_count": 35,
     "metadata": {},
     "output_type": "execute_result"
    }
   ],
   "source": [
    "X.shape"
   ]
  },
  {
   "cell_type": "code",
   "execution_count": 36,
   "id": "ef0aa533",
   "metadata": {},
   "outputs": [
    {
     "data": {
      "text/plain": [
       "(302,)"
      ]
     },
     "execution_count": 36,
     "metadata": {},
     "output_type": "execute_result"
    }
   ],
   "source": [
    "Y.shape"
   ]
  },
  {
   "cell_type": "code",
   "execution_count": 37,
   "id": "bec3377a",
   "metadata": {},
   "outputs": [],
   "source": [
    "X_train,X_test,Y_train,Y_test=train_test_split(X,Y,test_size=0.2,stratify=Y, random_state=2)"
   ]
  },
  {
   "cell_type": "code",
   "execution_count": 38,
   "id": "bff081ae",
   "metadata": {},
   "outputs": [
    {
     "data": {
      "text/plain": [
       "((241, 13), (61, 13), (241,), (61,))"
      ]
     },
     "execution_count": 38,
     "metadata": {},
     "output_type": "execute_result"
    }
   ],
   "source": [
    "X_train.shape, X_test.shape,Y_train.shape,Y_test.shape"
   ]
  },
  {
   "cell_type": "markdown",
   "id": "93ba3a86",
   "metadata": {},
   "source": [
    "##### Standardize Data"
   ]
  },
  {
   "cell_type": "code",
   "execution_count": 39,
   "id": "88c3b8bb",
   "metadata": {},
   "outputs": [
    {
     "data": {
      "text/plain": [
       "78.05158347300697"
      ]
     },
     "execution_count": 39,
     "metadata": {},
     "output_type": "execute_result"
    }
   ],
   "source": [
    "X_train_array=np.asarray(X_train).std()\n",
    "X_train_array"
   ]
  },
  {
   "cell_type": "code",
   "execution_count": 40,
   "id": "3ec42c7a",
   "metadata": {},
   "outputs": [],
   "source": [
    "scaler=StandardScaler()"
   ]
  },
  {
   "cell_type": "code",
   "execution_count": 41,
   "id": "ffaf1e96",
   "metadata": {},
   "outputs": [
    {
     "data": {
      "text/html": [
       "<style>#sk-container-id-1 {color: black;}#sk-container-id-1 pre{padding: 0;}#sk-container-id-1 div.sk-toggleable {background-color: white;}#sk-container-id-1 label.sk-toggleable__label {cursor: pointer;display: block;width: 100%;margin-bottom: 0;padding: 0.3em;box-sizing: border-box;text-align: center;}#sk-container-id-1 label.sk-toggleable__label-arrow:before {content: \"▸\";float: left;margin-right: 0.25em;color: #696969;}#sk-container-id-1 label.sk-toggleable__label-arrow:hover:before {color: black;}#sk-container-id-1 div.sk-estimator:hover label.sk-toggleable__label-arrow:before {color: black;}#sk-container-id-1 div.sk-toggleable__content {max-height: 0;max-width: 0;overflow: hidden;text-align: left;background-color: #f0f8ff;}#sk-container-id-1 div.sk-toggleable__content pre {margin: 0.2em;color: black;border-radius: 0.25em;background-color: #f0f8ff;}#sk-container-id-1 input.sk-toggleable__control:checked~div.sk-toggleable__content {max-height: 200px;max-width: 100%;overflow: auto;}#sk-container-id-1 input.sk-toggleable__control:checked~label.sk-toggleable__label-arrow:before {content: \"▾\";}#sk-container-id-1 div.sk-estimator input.sk-toggleable__control:checked~label.sk-toggleable__label {background-color: #d4ebff;}#sk-container-id-1 div.sk-label input.sk-toggleable__control:checked~label.sk-toggleable__label {background-color: #d4ebff;}#sk-container-id-1 input.sk-hidden--visually {border: 0;clip: rect(1px 1px 1px 1px);clip: rect(1px, 1px, 1px, 1px);height: 1px;margin: -1px;overflow: hidden;padding: 0;position: absolute;width: 1px;}#sk-container-id-1 div.sk-estimator {font-family: monospace;background-color: #f0f8ff;border: 1px dotted black;border-radius: 0.25em;box-sizing: border-box;margin-bottom: 0.5em;}#sk-container-id-1 div.sk-estimator:hover {background-color: #d4ebff;}#sk-container-id-1 div.sk-parallel-item::after {content: \"\";width: 100%;border-bottom: 1px solid gray;flex-grow: 1;}#sk-container-id-1 div.sk-label:hover label.sk-toggleable__label {background-color: #d4ebff;}#sk-container-id-1 div.sk-serial::before {content: \"\";position: absolute;border-left: 1px solid gray;box-sizing: border-box;top: 0;bottom: 0;left: 50%;z-index: 0;}#sk-container-id-1 div.sk-serial {display: flex;flex-direction: column;align-items: center;background-color: white;padding-right: 0.2em;padding-left: 0.2em;position: relative;}#sk-container-id-1 div.sk-item {position: relative;z-index: 1;}#sk-container-id-1 div.sk-parallel {display: flex;align-items: stretch;justify-content: center;background-color: white;position: relative;}#sk-container-id-1 div.sk-item::before, #sk-container-id-1 div.sk-parallel-item::before {content: \"\";position: absolute;border-left: 1px solid gray;box-sizing: border-box;top: 0;bottom: 0;left: 50%;z-index: -1;}#sk-container-id-1 div.sk-parallel-item {display: flex;flex-direction: column;z-index: 1;position: relative;background-color: white;}#sk-container-id-1 div.sk-parallel-item:first-child::after {align-self: flex-end;width: 50%;}#sk-container-id-1 div.sk-parallel-item:last-child::after {align-self: flex-start;width: 50%;}#sk-container-id-1 div.sk-parallel-item:only-child::after {width: 0;}#sk-container-id-1 div.sk-dashed-wrapped {border: 1px dashed gray;margin: 0 0.4em 0.5em 0.4em;box-sizing: border-box;padding-bottom: 0.4em;background-color: white;}#sk-container-id-1 div.sk-label label {font-family: monospace;font-weight: bold;display: inline-block;line-height: 1.2em;}#sk-container-id-1 div.sk-label-container {text-align: center;}#sk-container-id-1 div.sk-container {/* jupyter's `normalize.less` sets `[hidden] { display: none; }` but bootstrap.min.css set `[hidden] { display: none !important; }` so we also need the `!important` here to be able to override the default hidden behavior on the sphinx rendered scikit-learn.org. See: https://github.com/scikit-learn/scikit-learn/issues/21755 */display: inline-block !important;position: relative;}#sk-container-id-1 div.sk-text-repr-fallback {display: none;}</style><div id=\"sk-container-id-1\" class=\"sk-top-container\"><div class=\"sk-text-repr-fallback\"><pre>StandardScaler()</pre><b>In a Jupyter environment, please rerun this cell to show the HTML representation or trust the notebook. <br />On GitHub, the HTML representation is unable to render, please try loading this page with nbviewer.org.</b></div><div class=\"sk-container\" hidden><div class=\"sk-item\"><div class=\"sk-estimator sk-toggleable\"><input class=\"sk-toggleable__control sk-hidden--visually\" id=\"sk-estimator-id-1\" type=\"checkbox\" checked><label for=\"sk-estimator-id-1\" class=\"sk-toggleable__label sk-toggleable__label-arrow\">StandardScaler</label><div class=\"sk-toggleable__content\"><pre>StandardScaler()</pre></div></div></div></div></div>"
      ],
      "text/plain": [
       "StandardScaler()"
      ]
     },
     "execution_count": 41,
     "metadata": {},
     "output_type": "execute_result"
    }
   ],
   "source": [
    "scaler.fit(X_train)"
   ]
  },
  {
   "cell_type": "code",
   "execution_count": 42,
   "id": "0bc3f80f",
   "metadata": {},
   "outputs": [],
   "source": [
    "X_train_Standardize=scaler.transform(X_train)"
   ]
  },
  {
   "cell_type": "code",
   "execution_count": 43,
   "id": "deba850b",
   "metadata": {},
   "outputs": [
    {
     "data": {
      "text/plain": [
       "array([[ 0.31376524,  0.67216607, -0.94847216, ..., -0.62675024,\n",
       "        -0.69655732, -2.18635633],\n",
       "       [-0.02082513,  0.67216607, -0.94847216, ..., -0.62675024,\n",
       "         0.31470963,  1.09658371],\n",
       "       [-1.24765647,  0.67216607, -0.94847216, ..., -0.62675024,\n",
       "        -0.69655732, -0.54488631],\n",
       "       ...,\n",
       "       [-0.24388537,  0.67216607, -0.94847216, ...,  0.98013069,\n",
       "         0.31470963,  1.09658371],\n",
       "       [ 1.42906646,  0.67216607,  0.98866165, ..., -0.62675024,\n",
       "        -0.69655732,  1.09658371],\n",
       "       [-1.47071671, -1.48772757,  0.02009475, ...,  0.98013069,\n",
       "         0.31470963, -0.54488631]])"
      ]
     },
     "execution_count": 43,
     "metadata": {},
     "output_type": "execute_result"
    }
   ],
   "source": [
    "X_train_Standardize"
   ]
  },
  {
   "cell_type": "code",
   "execution_count": 44,
   "id": "28105baf",
   "metadata": {},
   "outputs": [
    {
     "data": {
      "text/plain": [
       "(241, 13)"
      ]
     },
     "execution_count": 44,
     "metadata": {},
     "output_type": "execute_result"
    }
   ],
   "source": [
    "X_train_Standardize.shape"
   ]
  },
  {
   "cell_type": "code",
   "execution_count": 45,
   "id": "3a4bebaa",
   "metadata": {},
   "outputs": [
    {
     "data": {
      "text/plain": [
       "1.0"
      ]
     },
     "execution_count": 45,
     "metadata": {},
     "output_type": "execute_result"
    }
   ],
   "source": [
    "X_train_Standardize.std()"
   ]
  },
  {
   "cell_type": "code",
   "execution_count": 46,
   "id": "86087502",
   "metadata": {},
   "outputs": [
    {
     "data": {
      "text/html": [
       "<style>#sk-container-id-2 {color: black;}#sk-container-id-2 pre{padding: 0;}#sk-container-id-2 div.sk-toggleable {background-color: white;}#sk-container-id-2 label.sk-toggleable__label {cursor: pointer;display: block;width: 100%;margin-bottom: 0;padding: 0.3em;box-sizing: border-box;text-align: center;}#sk-container-id-2 label.sk-toggleable__label-arrow:before {content: \"▸\";float: left;margin-right: 0.25em;color: #696969;}#sk-container-id-2 label.sk-toggleable__label-arrow:hover:before {color: black;}#sk-container-id-2 div.sk-estimator:hover label.sk-toggleable__label-arrow:before {color: black;}#sk-container-id-2 div.sk-toggleable__content {max-height: 0;max-width: 0;overflow: hidden;text-align: left;background-color: #f0f8ff;}#sk-container-id-2 div.sk-toggleable__content pre {margin: 0.2em;color: black;border-radius: 0.25em;background-color: #f0f8ff;}#sk-container-id-2 input.sk-toggleable__control:checked~div.sk-toggleable__content {max-height: 200px;max-width: 100%;overflow: auto;}#sk-container-id-2 input.sk-toggleable__control:checked~label.sk-toggleable__label-arrow:before {content: \"▾\";}#sk-container-id-2 div.sk-estimator input.sk-toggleable__control:checked~label.sk-toggleable__label {background-color: #d4ebff;}#sk-container-id-2 div.sk-label input.sk-toggleable__control:checked~label.sk-toggleable__label {background-color: #d4ebff;}#sk-container-id-2 input.sk-hidden--visually {border: 0;clip: rect(1px 1px 1px 1px);clip: rect(1px, 1px, 1px, 1px);height: 1px;margin: -1px;overflow: hidden;padding: 0;position: absolute;width: 1px;}#sk-container-id-2 div.sk-estimator {font-family: monospace;background-color: #f0f8ff;border: 1px dotted black;border-radius: 0.25em;box-sizing: border-box;margin-bottom: 0.5em;}#sk-container-id-2 div.sk-estimator:hover {background-color: #d4ebff;}#sk-container-id-2 div.sk-parallel-item::after {content: \"\";width: 100%;border-bottom: 1px solid gray;flex-grow: 1;}#sk-container-id-2 div.sk-label:hover label.sk-toggleable__label {background-color: #d4ebff;}#sk-container-id-2 div.sk-serial::before {content: \"\";position: absolute;border-left: 1px solid gray;box-sizing: border-box;top: 0;bottom: 0;left: 50%;z-index: 0;}#sk-container-id-2 div.sk-serial {display: flex;flex-direction: column;align-items: center;background-color: white;padding-right: 0.2em;padding-left: 0.2em;position: relative;}#sk-container-id-2 div.sk-item {position: relative;z-index: 1;}#sk-container-id-2 div.sk-parallel {display: flex;align-items: stretch;justify-content: center;background-color: white;position: relative;}#sk-container-id-2 div.sk-item::before, #sk-container-id-2 div.sk-parallel-item::before {content: \"\";position: absolute;border-left: 1px solid gray;box-sizing: border-box;top: 0;bottom: 0;left: 50%;z-index: -1;}#sk-container-id-2 div.sk-parallel-item {display: flex;flex-direction: column;z-index: 1;position: relative;background-color: white;}#sk-container-id-2 div.sk-parallel-item:first-child::after {align-self: flex-end;width: 50%;}#sk-container-id-2 div.sk-parallel-item:last-child::after {align-self: flex-start;width: 50%;}#sk-container-id-2 div.sk-parallel-item:only-child::after {width: 0;}#sk-container-id-2 div.sk-dashed-wrapped {border: 1px dashed gray;margin: 0 0.4em 0.5em 0.4em;box-sizing: border-box;padding-bottom: 0.4em;background-color: white;}#sk-container-id-2 div.sk-label label {font-family: monospace;font-weight: bold;display: inline-block;line-height: 1.2em;}#sk-container-id-2 div.sk-label-container {text-align: center;}#sk-container-id-2 div.sk-container {/* jupyter's `normalize.less` sets `[hidden] { display: none; }` but bootstrap.min.css set `[hidden] { display: none !important; }` so we also need the `!important` here to be able to override the default hidden behavior on the sphinx rendered scikit-learn.org. See: https://github.com/scikit-learn/scikit-learn/issues/21755 */display: inline-block !important;position: relative;}#sk-container-id-2 div.sk-text-repr-fallback {display: none;}</style><div id=\"sk-container-id-2\" class=\"sk-top-container\"><div class=\"sk-text-repr-fallback\"><pre>StandardScaler()</pre><b>In a Jupyter environment, please rerun this cell to show the HTML representation or trust the notebook. <br />On GitHub, the HTML representation is unable to render, please try loading this page with nbviewer.org.</b></div><div class=\"sk-container\" hidden><div class=\"sk-item\"><div class=\"sk-estimator sk-toggleable\"><input class=\"sk-toggleable__control sk-hidden--visually\" id=\"sk-estimator-id-2\" type=\"checkbox\" checked><label for=\"sk-estimator-id-2\" class=\"sk-toggleable__label sk-toggleable__label-arrow\">StandardScaler</label><div class=\"sk-toggleable__content\"><pre>StandardScaler()</pre></div></div></div></div></div>"
      ],
      "text/plain": [
       "StandardScaler()"
      ]
     },
     "execution_count": 46,
     "metadata": {},
     "output_type": "execute_result"
    }
   ],
   "source": [
    "scaler.fit(X_test)"
   ]
  },
  {
   "cell_type": "code",
   "execution_count": 47,
   "id": "fe0412e3",
   "metadata": {},
   "outputs": [
    {
     "data": {
      "text/plain": [
       "array([[-0.03728025,  0.72456884, -0.88434038, -0.13606256,  1.53880532,\n",
       "        -0.5204165 ,  0.95197164, -0.74047635,  1.38013112,  0.28352821,\n",
       "        -0.72786026,  0.1548574 ,  1.2198545 ],\n",
       "       [ 0.07100999,  0.72456884,  0.0964735 , -0.2521439 , -0.45003263,\n",
       "        -0.5204165 , -1.05045146,  0.57307035, -0.72456884, -0.9231151 ,\n",
       "         0.97981189, -0.78977276,  1.2198545 ],\n",
       "       [-0.36215097,  0.72456884,  0.0964735 , -0.36822524, -0.6911039 ,\n",
       "         1.92153785,  0.95197164,  1.4628923 , -0.72456884, -0.9231151 ,\n",
       "         0.97981189, -0.78977276, -0.39777864],\n",
       "       [ 0.50417096,  0.72456884, -0.88434038, -0.2521439 , -0.67603694,\n",
       "        -0.5204165 , -1.05045146, -0.74047635,  1.38013112,  1.49017152,\n",
       "        -0.72786026,  1.09948756,  1.2198545 ],\n",
       "       [-2.20308509, -1.38013112, -0.88434038,  0.21218147, -1.02257689,\n",
       "        -0.5204165 ,  0.95197164,  1.37814735, -0.72456884,  0.48463543,\n",
       "         0.97981189, -0.78977276, -0.39777864],\n",
       "       [ 1.69536362, -1.38013112,  0.0964735 ,  1.48907624,  0.77039066,\n",
       "        -0.5204165 ,  0.95197164,  0.53069787, -0.72456884, -0.52090067,\n",
       "         0.97981189,  1.09948756, -0.39777864],\n",
       "       [ 0.28759048, -1.38013112,  0.0964735 ,  0.09610013,  1.02652888,\n",
       "         1.92153785, -1.05045146,  0.10697313, -0.72456884, -0.9231151 ,\n",
       "         0.97981189,  1.09948756, -0.39777864],\n",
       "       [ 0.07100999,  0.72456884, -0.88434038, -0.2521439 ,  0.48411853,\n",
       "         1.92153785, -1.05045146, -1.9692781 ,  1.38013112,  0.68574265,\n",
       "        -2.43553242, -0.78977276,  1.2198545 ],\n",
       "       [ 0.6124612 ,  0.72456884,  1.07728737,  0.90866953, -0.11855964,\n",
       "         1.92153785,  0.95197164, -0.52861398,  1.38013112,  0.08242099,\n",
       "        -0.72786026, -0.78977276, -0.39777864],\n",
       "       [ 0.93733193, -1.38013112, -0.88434038,  2.64988966,  1.1169306 ,\n",
       "        -0.5204165 ,  0.95197164,  0.19171808,  1.38013112, -0.9231151 ,\n",
       "         0.97981189, -0.78977276, -0.39777864],\n",
       "       [ 1.04562217, -1.38013112,  1.07728737,  0.32826281,  2.50309039,\n",
       "         1.92153785, -1.05045146,  0.3188355 , -0.72456884, -0.11868623,\n",
       "         0.97981189,  0.1548574 , -0.39777864],\n",
       "       [ 0.39588072, -1.38013112, -0.88434038,  2.30164564, -0.02815791,\n",
       "        -0.5204165 ,  0.95197164, -0.27437914,  1.38013112, -0.9231151 ,\n",
       "        -0.72786026, -0.78977276, -0.39777864],\n",
       "       [-0.79531194,  0.72456884, -0.88434038, -0.2521439 ,  0.07731076,\n",
       "         1.92153785, -1.05045146,  0.02222818,  1.38013112, -0.9231151 ,\n",
       "         0.97981189,  1.09948756,  1.2198545 ],\n",
       "       [ 0.82904169, -1.38013112, -0.88434038, -1.52903867,  0.27318117,\n",
       "        -0.5204165 ,  0.95197164,  0.82730519,  1.38013112,  0.88684987,\n",
       "        -0.72786026,  1.09948756, -0.39777864],\n",
       "       [-1.12018267, -1.38013112, -0.88434038,  0.21218147, -0.22402832,\n",
       "        -0.5204165 , -1.05045146,  0.10697313,  1.38013112, -0.72200788,\n",
       "        -0.72786026, -0.78977276, -0.39777864],\n",
       "       [ 0.17930024,  0.72456884,  1.07728737,  0.90866953, -1.88139328,\n",
       "         1.92153785,  0.95197164,  0.99679509, -0.72456884, -0.72200788,\n",
       "         0.97981189,  0.1548574 ,  1.2198545 ],\n",
       "       [ 0.28759048, -1.38013112, -0.88434038, -0.2521439 , -0.81163953,\n",
       "        -0.5204165 ,  0.95197164, -0.78284882, -0.72456884, -0.31979345,\n",
       "        -0.72786026, -0.78977276, -0.39777864],\n",
       "       [-1.01189243,  0.72456884, -0.88434038, -0.83255061, -0.02815791,\n",
       "        -0.5204165 , -1.05045146, -0.23200666, -0.72456884, -0.11868623,\n",
       "         0.97981189, -0.78977276,  1.2198545 ],\n",
       "       [ 1.04562217,  0.72456884, -0.88434038, -1.41295733, -0.04322487,\n",
       "        -0.5204165 , -1.05045146,  0.36120798, -0.72456884, -0.31979345,\n",
       "         0.97981189,  1.09948756, -2.01541179],\n",
       "       [-0.47044122,  0.72456884, -0.88434038,  0.32826281,  0.15264554,\n",
       "        -0.5204165 , -1.05045146,  1.54763725,  1.38013112, -0.9231151 ,\n",
       "         0.97981189, -0.78977276, -0.39777864],\n",
       "       [ 0.6124612 ,  0.72456884,  2.05810125, -0.01998121, -0.25416223,\n",
       "        -0.5204165 ,  0.95197164, -0.18963419, -0.72456884,  1.69127874,\n",
       "        -0.72786026,  1.09948756, -0.39777864],\n",
       "       [ 0.72075145, -1.38013112, -0.88434038, -0.60038793, -0.63083608,\n",
       "        -0.5204165 ,  0.95197164,  0.57307035, -0.72456884, -0.9231151 ,\n",
       "         0.97981189, -0.78977276, -0.39777864],\n",
       "       [-0.36215097,  0.72456884,  1.07728737,  0.21218147, -0.41989872,\n",
       "        -0.5204165 ,  0.95197164,  0.82730519, -0.72456884, -0.9231151 ,\n",
       "         0.97981189,  2.98874788, -0.39777864],\n",
       "       [ 1.26220266,  0.72456884, -0.88434038, -1.99336404,  0.72518979,\n",
       "        -0.5204165 , -1.05045146, -1.03708367,  1.38013112, -0.01813262,\n",
       "        -0.72786026,  1.09948756, -0.39777864],\n",
       "       [-1.76992412,  0.72456884, -0.88434038, -0.94863196, -0.48016654,\n",
       "        -0.5204165 ,  0.95197164, -0.40149656, -0.72456884,  0.28352821,\n",
       "        -0.72786026, -0.78977276,  1.2198545 ],\n",
       "       [ 0.28759048,  0.72456884, -0.88434038, -0.36822524,  0.12251163,\n",
       "        -0.5204165 , -1.05045146, -0.8252213 ,  1.38013112,  2.09349318,\n",
       "        -0.72786026,  1.09948756,  1.2198545 ],\n",
       "       [ 0.93733193,  0.72456884, -0.88434038, -0.83255061, -0.07335878,\n",
       "        -0.5204165 , -1.05045146, -2.26588542,  1.38013112,  1.28906431,\n",
       "        -2.43553242,  0.1548574 , -0.39777864],\n",
       "       [ 0.28759048,  0.72456884, -0.88434038, -0.54234726,  0.74025675,\n",
       "        -0.5204165 , -1.05045146,  0.91205014, -0.72456884, -0.9231151 ,\n",
       "         0.97981189,  1.09948756,  1.2198545 ],\n",
       "       [ 0.17930024,  0.72456884,  1.07728737,  0.90866953, -1.2485812 ,\n",
       "        -0.5204165 ,  0.95197164,  1.03916756, -0.72456884,  0.68574265,\n",
       "         0.97981189, -0.78977276, -0.39777864],\n",
       "       [ 1.69536362, -1.38013112,  1.07728737, -1.41295733,  0.21291335,\n",
       "         1.92153785, -1.05045146, -0.8252213 , -0.72456884, -0.9231151 ,\n",
       "         0.97981189,  0.1548574 , -0.39777864],\n",
       "       [ 0.39588072,  0.72456884,  2.05810125,  2.53380832,  0.28824812,\n",
       "        -0.5204165 , -1.05045146, -0.18963419, -0.72456884,  3.3001365 ,\n",
       "        -2.43553242, -0.78977276,  1.2198545 ],\n",
       "       [-1.44505339, -1.38013112,  1.07728737, -0.83255061, -0.63083608,\n",
       "        -0.5204165 ,  0.95197164,  0.99679509, -0.72456884, -0.9231151 ,\n",
       "        -0.72786026, -0.78977276, -0.39777864],\n",
       "       [-0.6870217 , -1.38013112, -0.88434038, -0.2521439 ,  0.27318117,\n",
       "        -0.5204165 ,  0.95197164,  0.57307035, -0.72456884, -0.9231151 ,\n",
       "         0.97981189, -0.78977276, -0.39777864],\n",
       "       [ 0.39588072,  0.72456884, -0.88434038,  1.72123892, -1.12804557,\n",
       "         1.92153785, -1.05045146, -2.52012026, -0.72456884,  0.08242099,\n",
       "        -0.72786026,  1.09948756, -2.01541179],\n",
       "       [ 0.50417096,  0.72456884, -0.88434038, -0.2521439 ,  0.0321099 ,\n",
       "        -0.5204165 ,  0.95197164, -0.23200666,  1.38013112,  0.48463543,\n",
       "         0.97981189,  0.1548574 ,  1.2198545 ],\n",
       "       [-1.44505339,  0.72456884, -0.88434038,  0.09610013,  0.96626106,\n",
       "        -0.5204165 ,  0.95197164, -1.03708367,  1.38013112,  0.88684987,\n",
       "        -0.72786026, -0.78977276, -2.01541179],\n",
       "       [-1.76992412, -1.38013112,  1.07728737,  0.21218147, -0.46509959,\n",
       "        -0.5204165 ,  0.95197164,  0.10697313, -0.72456884, -0.9231151 ,\n",
       "        -0.72786026, -0.78977276, -0.39777864],\n",
       "       [ 0.72075145, -1.38013112, -0.88434038,  0.21218147,  0.64985502,\n",
       "         1.92153785,  0.95197164, -1.84216068, -0.72456884,  0.98740348,\n",
       "        -0.72786026,  2.04411772, -0.39777864],\n",
       "       [-1.22847291,  0.72456884,  0.0964735 , -0.83255061,  0.18277944,\n",
       "        -0.5204165 ,  0.95197164,  0.99679509, -0.72456884, -0.9231151 ,\n",
       "         0.97981189, -0.78977276,  1.2198545 ],\n",
       "       [ 1.69536362, -1.38013112, -0.88434038, -1.29687598, -1.53485333,\n",
       "        -0.5204165 ,  0.95197164, -1.03708367, -0.72456884,  0.68574265,\n",
       "        -0.72786026, -0.78977276, -0.39777864],\n",
       "       [ 1.58707338,  0.72456884,  1.07728737,  1.48907624,  0.27318117,\n",
       "        -0.5204165 ,  0.95197164, -1.58792583,  1.38013112,  1.99293957,\n",
       "        -0.72786026,  0.1548574 ,  1.2198545 ],\n",
       "       [ 1.3704929 ,  0.72456884,  1.07728737,  2.64988966,  0.34851594,\n",
       "         1.92153785, -1.05045146,  0.02222818,  1.38013112,  0.68574265,\n",
       "        -0.72786026, -0.78977276,  1.2198545 ],\n",
       "       [-0.36215097, -1.38013112,  1.07728737,  0.09610013, -0.82670649,\n",
       "        -0.5204165 , -1.05045146,  0.82730519, -0.72456884, -0.82256149,\n",
       "        -0.72786026, -0.78977276, -0.39777864],\n",
       "       [-1.33676315,  0.72456884,  1.07728737, -0.2521439 ,  0.96626106,\n",
       "        -0.5204165 ,  0.95197164,  0.53069787, -0.72456884,  0.98740348,\n",
       "         0.97981189,  0.1548574 , -0.39777864],\n",
       "       [ 0.72075145, -1.38013112,  1.07728737, -0.2521439 ,  0.18277944,\n",
       "        -0.5204165 ,  0.95197164, -2.22351294, -0.72456884,  0.28352821,\n",
       "        -0.72786026,  0.1548574 ,  1.2198545 ],\n",
       "       [ 0.17930024, -1.38013112, -0.88434038, -0.36822524,  0.78545761,\n",
       "        -0.5204165 , -1.05045146,  0.40358045, -0.72456884, -0.9231151 ,\n",
       "         0.97981189,  0.1548574 , -0.39777864],\n",
       "       [-1.87821436,  0.72456884,  1.07728737,  0.21218147, -1.14311252,\n",
       "        -0.5204165 ,  0.95197164,  0.99679509, -0.72456884, -0.9231151 ,\n",
       "         0.97981189,  2.98874788, -0.39777864],\n",
       "       [-0.6870217 ,  0.72456884,  1.07728737, -0.94863196, -1.53485333,\n",
       "        -0.5204165 , -1.05045146, -0.99471119, -0.72456884, -0.11868623,\n",
       "         0.97981189,  2.04411772, -0.39777864],\n",
       "       [-0.47044122,  0.72456884,  1.07728737, -0.54234726, -0.08842573,\n",
       "         1.92153785, -1.05045146,  0.70018777, -0.72456884,  1.49017152,\n",
       "        -0.72786026, -0.78977276, -0.39777864],\n",
       "       [ 0.39588072,  0.72456884, -0.88434038,  0.32826281, -1.11297861,\n",
       "        -0.5204165 ,  0.95197164,  0.53069787,  1.38013112, -0.9231151 ,\n",
       "         0.97981189,  0.1548574 ,  1.2198545 ],\n",
       "       [ 0.50417096,  0.72456884, -0.88434038,  0.61846617,  0.46905157,\n",
       "        -0.5204165 , -1.05045146, -0.31675161,  1.38013112,  1.89238596,\n",
       "        -0.72786026,  1.09948756,  1.2198545 ],\n",
       "       [-0.14557049,  0.72456884, -0.88434038,  0.32826281, -0.17882746,\n",
       "        -0.5204165 ,  0.95197164,  0.44595292, -0.72456884,  0.28352821,\n",
       "         0.97981189, -0.78977276, -0.39777864],\n",
       "       [ 0.07100999,  0.72456884, -0.88434038, -0.54234726, -0.02815791,\n",
       "         1.92153785, -1.05045146, -0.23200666,  1.38013112,  0.28352821,\n",
       "        -0.72786026,  0.1548574 , -0.39777864],\n",
       "       [-1.76992412,  0.72456884,  1.07728737,  0.32826281,  1.05666279,\n",
       "        -0.5204165 , -1.05045146,  1.37814735, -0.72456884, -0.9231151 ,\n",
       "         0.97981189, -0.78977276, -0.39777864],\n",
       "       [ 1.26220266, -1.38013112,  1.07728737, -1.12275397,  4.71793265,\n",
       "        -0.5204165 , -1.05045146,  0.44595292, -0.72456884,  0.68574265,\n",
       "        -0.72786026, -0.78977276,  1.2198545 ],\n",
       "       [-1.66163388,  0.72456884, -0.88434038,  1.02475087, -0.41989872,\n",
       "        -0.5204165 ,  0.95197164,  1.33577488, -0.72456884, -0.9231151 ,\n",
       "         0.97981189, -0.78977276,  1.2198545 ],\n",
       "       [-0.36215097,  0.72456884,  2.05810125, -0.94863196, -0.97737603,\n",
       "        -0.5204165 , -1.05045146,  1.71712715, -0.72456884, -0.9231151 ,\n",
       "        -0.72786026, -0.78977276, -2.01541179],\n",
       "       [ 0.17930024,  0.72456884,  1.07728737, -0.36822524, -0.329497  ,\n",
       "        -0.5204165 , -1.05045146,  0.02222818, -0.72456884, -0.52090067,\n",
       "        -0.72786026,  0.1548574 ,  1.2198545 ],\n",
       "       [ 0.82904169, -1.38013112,  1.07728737,  0.03805946,  0.01704295,\n",
       "        -0.5204165 , -1.05045146,  0.95442261, -0.72456884, -0.9231151 ,\n",
       "         0.97981189, -0.78977276, -0.39777864],\n",
       "       [ 0.17930024,  0.72456884, -0.88434038, -1.41295733, -0.75137171,\n",
       "        -0.5204165 ,  0.95197164, -0.99471119,  1.38013112,  0.58518904,\n",
       "        -0.72786026, -0.78977276, -2.01541179],\n",
       "       [-1.55334363,  0.72456884,  0.0964735 ,  0.03805946, -0.72123781,\n",
       "        -0.5204165 ,  0.95197164, -0.74047635, -0.72456884, -0.9231151 ,\n",
       "        -0.72786026, -0.78977276, -2.01541179]])"
      ]
     },
     "execution_count": 47,
     "metadata": {},
     "output_type": "execute_result"
    }
   ],
   "source": [
    "X_test_Standardize=scaler.transform(X_test)\n",
    "X_test_Standardize"
   ]
  },
  {
   "cell_type": "code",
   "execution_count": 48,
   "id": "a56129ef",
   "metadata": {},
   "outputs": [
    {
     "data": {
      "text/plain": [
       "1.0"
      ]
     },
     "execution_count": 48,
     "metadata": {},
     "output_type": "execute_result"
    }
   ],
   "source": [
    "X_test_Standardize.std()"
   ]
  },
  {
   "cell_type": "markdown",
   "id": "456a11f8",
   "metadata": {},
   "source": [
    "## Model Training"
   ]
  },
  {
   "cell_type": "markdown",
   "id": "e06cb27e",
   "metadata": {},
   "source": [
    "### Logistic Regression Model"
   ]
  },
  {
   "cell_type": "code",
   "execution_count": 49,
   "id": "ba5c3332",
   "metadata": {
    "scrolled": true
   },
   "outputs": [
    {
     "data": {
      "text/html": [
       "<style>#sk-container-id-3 {color: black;}#sk-container-id-3 pre{padding: 0;}#sk-container-id-3 div.sk-toggleable {background-color: white;}#sk-container-id-3 label.sk-toggleable__label {cursor: pointer;display: block;width: 100%;margin-bottom: 0;padding: 0.3em;box-sizing: border-box;text-align: center;}#sk-container-id-3 label.sk-toggleable__label-arrow:before {content: \"▸\";float: left;margin-right: 0.25em;color: #696969;}#sk-container-id-3 label.sk-toggleable__label-arrow:hover:before {color: black;}#sk-container-id-3 div.sk-estimator:hover label.sk-toggleable__label-arrow:before {color: black;}#sk-container-id-3 div.sk-toggleable__content {max-height: 0;max-width: 0;overflow: hidden;text-align: left;background-color: #f0f8ff;}#sk-container-id-3 div.sk-toggleable__content pre {margin: 0.2em;color: black;border-radius: 0.25em;background-color: #f0f8ff;}#sk-container-id-3 input.sk-toggleable__control:checked~div.sk-toggleable__content {max-height: 200px;max-width: 100%;overflow: auto;}#sk-container-id-3 input.sk-toggleable__control:checked~label.sk-toggleable__label-arrow:before {content: \"▾\";}#sk-container-id-3 div.sk-estimator input.sk-toggleable__control:checked~label.sk-toggleable__label {background-color: #d4ebff;}#sk-container-id-3 div.sk-label input.sk-toggleable__control:checked~label.sk-toggleable__label {background-color: #d4ebff;}#sk-container-id-3 input.sk-hidden--visually {border: 0;clip: rect(1px 1px 1px 1px);clip: rect(1px, 1px, 1px, 1px);height: 1px;margin: -1px;overflow: hidden;padding: 0;position: absolute;width: 1px;}#sk-container-id-3 div.sk-estimator {font-family: monospace;background-color: #f0f8ff;border: 1px dotted black;border-radius: 0.25em;box-sizing: border-box;margin-bottom: 0.5em;}#sk-container-id-3 div.sk-estimator:hover {background-color: #d4ebff;}#sk-container-id-3 div.sk-parallel-item::after {content: \"\";width: 100%;border-bottom: 1px solid gray;flex-grow: 1;}#sk-container-id-3 div.sk-label:hover label.sk-toggleable__label {background-color: #d4ebff;}#sk-container-id-3 div.sk-serial::before {content: \"\";position: absolute;border-left: 1px solid gray;box-sizing: border-box;top: 0;bottom: 0;left: 50%;z-index: 0;}#sk-container-id-3 div.sk-serial {display: flex;flex-direction: column;align-items: center;background-color: white;padding-right: 0.2em;padding-left: 0.2em;position: relative;}#sk-container-id-3 div.sk-item {position: relative;z-index: 1;}#sk-container-id-3 div.sk-parallel {display: flex;align-items: stretch;justify-content: center;background-color: white;position: relative;}#sk-container-id-3 div.sk-item::before, #sk-container-id-3 div.sk-parallel-item::before {content: \"\";position: absolute;border-left: 1px solid gray;box-sizing: border-box;top: 0;bottom: 0;left: 50%;z-index: -1;}#sk-container-id-3 div.sk-parallel-item {display: flex;flex-direction: column;z-index: 1;position: relative;background-color: white;}#sk-container-id-3 div.sk-parallel-item:first-child::after {align-self: flex-end;width: 50%;}#sk-container-id-3 div.sk-parallel-item:last-child::after {align-self: flex-start;width: 50%;}#sk-container-id-3 div.sk-parallel-item:only-child::after {width: 0;}#sk-container-id-3 div.sk-dashed-wrapped {border: 1px dashed gray;margin: 0 0.4em 0.5em 0.4em;box-sizing: border-box;padding-bottom: 0.4em;background-color: white;}#sk-container-id-3 div.sk-label label {font-family: monospace;font-weight: bold;display: inline-block;line-height: 1.2em;}#sk-container-id-3 div.sk-label-container {text-align: center;}#sk-container-id-3 div.sk-container {/* jupyter's `normalize.less` sets `[hidden] { display: none; }` but bootstrap.min.css set `[hidden] { display: none !important; }` so we also need the `!important` here to be able to override the default hidden behavior on the sphinx rendered scikit-learn.org. See: https://github.com/scikit-learn/scikit-learn/issues/21755 */display: inline-block !important;position: relative;}#sk-container-id-3 div.sk-text-repr-fallback {display: none;}</style><div id=\"sk-container-id-3\" class=\"sk-top-container\"><div class=\"sk-text-repr-fallback\"><pre>LogisticRegression()</pre><b>In a Jupyter environment, please rerun this cell to show the HTML representation or trust the notebook. <br />On GitHub, the HTML representation is unable to render, please try loading this page with nbviewer.org.</b></div><div class=\"sk-container\" hidden><div class=\"sk-item\"><div class=\"sk-estimator sk-toggleable\"><input class=\"sk-toggleable__control sk-hidden--visually\" id=\"sk-estimator-id-3\" type=\"checkbox\" checked><label for=\"sk-estimator-id-3\" class=\"sk-toggleable__label sk-toggleable__label-arrow\">LogisticRegression</label><div class=\"sk-toggleable__content\"><pre>LogisticRegression()</pre></div></div></div></div></div>"
      ],
      "text/plain": [
       "LogisticRegression()"
      ]
     },
     "execution_count": 49,
     "metadata": {},
     "output_type": "execute_result"
    }
   ],
   "source": [
    "model= LogisticRegression()\n",
    "model.fit(X_train_Standardize,Y_train)"
   ]
  },
  {
   "cell_type": "markdown",
   "id": "f3118954",
   "metadata": {},
   "source": [
    "#### Model Evaluation"
   ]
  },
  {
   "cell_type": "markdown",
   "id": "bd3c1706",
   "metadata": {},
   "source": [
    "#### Evaluate the performance of each model on the testing set using appropriate metrics "
   ]
  },
  {
   "cell_type": "markdown",
   "id": "958388c4",
   "metadata": {},
   "source": [
    "##### Using accuracy score"
   ]
  },
  {
   "cell_type": "code",
   "execution_count": 50,
   "id": "daf252be",
   "metadata": {},
   "outputs": [
    {
     "name": "stdout",
     "output_type": "stream",
     "text": [
      "accuracy of training data: 0.8547717842323651\n"
     ]
    }
   ],
   "source": [
    "X_train_prediction= model.predict(X_train_Standardize)\n",
    "training_data_accuracy=accuracy_score(X_train_prediction, Y_train)\n",
    "print(f'accuracy of training data: {training_data_accuracy}')"
   ]
  },
  {
   "cell_type": "code",
   "execution_count": 51,
   "id": "e9c03a84",
   "metadata": {
    "scrolled": true
   },
   "outputs": [
    {
     "name": "stdout",
     "output_type": "stream",
     "text": [
      "accuracy of test data: 0.8360655737704918\n"
     ]
    }
   ],
   "source": [
    "X_test_prediction= model.predict(X_test_Standardize)\n",
    "test_data_accuracy=accuracy_score(X_test_prediction, Y_test)\n",
    "print(f'accuracy of test data: {test_data_accuracy}')"
   ]
  },
  {
   "cell_type": "markdown",
   "id": "e4f4de37",
   "metadata": {},
   "source": [
    "##### Using Precision Score"
   ]
  },
  {
   "cell_type": "code",
   "execution_count": 52,
   "id": "fc526632",
   "metadata": {},
   "outputs": [
    {
     "name": "stdout",
     "output_type": "stream",
     "text": [
      "Precision of training data: 0.8333333333333334\n"
     ]
    }
   ],
   "source": [
    "X_train_prediction= model.predict(X_train_Standardize)\n",
    "threshold = 0.5  # Example threshold\n",
    "X_train_prediction_binary = (X_train_prediction > threshold).astype(int)\n",
    "training_data_precision = precision_score(Y_train, X_train_prediction_binary)\n",
    "print(f'Precision of training data: {training_data_precision}')"
   ]
  },
  {
   "cell_type": "code",
   "execution_count": 53,
   "id": "e88e3373",
   "metadata": {},
   "outputs": [
    {
     "name": "stdout",
     "output_type": "stream",
     "text": [
      "Precision of test data: 0.8285714285714286\n"
     ]
    }
   ],
   "source": [
    "X_test_prediction= model.predict(X_test_Standardize)\n",
    "threshold = 0.5  # Example threshold\n",
    "X_test_prediction_binary = (X_test_prediction > threshold).astype(int)\n",
    "test_data_precision = precision_score(Y_test, X_test_prediction_binary)\n",
    "print(f'Precision of test data: {test_data_precision}')"
   ]
  },
  {
   "cell_type": "markdown",
   "id": "3f612458",
   "metadata": {},
   "source": [
    "##### Using f1 score"
   ]
  },
  {
   "cell_type": "code",
   "execution_count": 54,
   "id": "25fd3f62",
   "metadata": {},
   "outputs": [
    {
     "name": "stdout",
     "output_type": "stream",
     "text": [
      "f1 of training data: 0.8727272727272728\n"
     ]
    }
   ],
   "source": [
    "X_train_prediction= model.predict(X_train_Standardize)\n",
    "threshold = 0.5  # Example threshold\n",
    "X_train_prediction_binary = (X_train_prediction > threshold).astype(int)\n",
    "X_train_f1 = f1_score(X_train_prediction_binary,Y_train)\n",
    "print(f'f1 of training data: {X_train_f1}')"
   ]
  },
  {
   "cell_type": "code",
   "execution_count": 55,
   "id": "0805d895",
   "metadata": {},
   "outputs": [
    {
     "name": "stdout",
     "output_type": "stream",
     "text": [
      "f1 of testing data: 0.8529411764705883\n"
     ]
    }
   ],
   "source": [
    "X_test_prediction= model.predict(X_test_Standardize)\n",
    "threshold = 0.5  # Example threshold\n",
    "X_test_prediction_binary = (X_test_prediction > threshold).astype(int)\n",
    "X_test_f1 = f1_score(X_test_prediction_binary,Y_test)\n",
    "print(f'f1 of testing data: {X_test_f1}')"
   ]
  },
  {
   "cell_type": "markdown",
   "id": "793d32a8",
   "metadata": {},
   "source": [
    "### Making Predictive System"
   ]
  },
  {
   "cell_type": "code",
   "execution_count": 90,
   "id": "3470f6b3",
   "metadata": {},
   "outputs": [
    {
     "name": "stdout",
     "output_type": "stream",
     "text": [
      "[0]\n"
     ]
    }
   ],
   "source": [
    "inputdata=(54,1,0,140,239,0,1,160,0,1.2,2,0,2)\n",
    "input_data_as_numpy_array=np.asarray(inputdata)  #changing the inputdata to a numpy array\n",
    "input_data_reshape=input_data_as_numpy_array.reshape(1,-1)\n",
    "prediction=model.predict(input_data_reshape)\n",
    "print(prediction)"
   ]
  },
  {
   "cell_type": "markdown",
   "id": "3d360c78",
   "metadata": {},
   "source": [
    "### Decision Tree"
   ]
  },
  {
   "cell_type": "code",
   "execution_count": 57,
   "id": "1dd1448b",
   "metadata": {},
   "outputs": [
    {
     "data": {
      "text/html": [
       "<style>#sk-container-id-4 {color: black;}#sk-container-id-4 pre{padding: 0;}#sk-container-id-4 div.sk-toggleable {background-color: white;}#sk-container-id-4 label.sk-toggleable__label {cursor: pointer;display: block;width: 100%;margin-bottom: 0;padding: 0.3em;box-sizing: border-box;text-align: center;}#sk-container-id-4 label.sk-toggleable__label-arrow:before {content: \"▸\";float: left;margin-right: 0.25em;color: #696969;}#sk-container-id-4 label.sk-toggleable__label-arrow:hover:before {color: black;}#sk-container-id-4 div.sk-estimator:hover label.sk-toggleable__label-arrow:before {color: black;}#sk-container-id-4 div.sk-toggleable__content {max-height: 0;max-width: 0;overflow: hidden;text-align: left;background-color: #f0f8ff;}#sk-container-id-4 div.sk-toggleable__content pre {margin: 0.2em;color: black;border-radius: 0.25em;background-color: #f0f8ff;}#sk-container-id-4 input.sk-toggleable__control:checked~div.sk-toggleable__content {max-height: 200px;max-width: 100%;overflow: auto;}#sk-container-id-4 input.sk-toggleable__control:checked~label.sk-toggleable__label-arrow:before {content: \"▾\";}#sk-container-id-4 div.sk-estimator input.sk-toggleable__control:checked~label.sk-toggleable__label {background-color: #d4ebff;}#sk-container-id-4 div.sk-label input.sk-toggleable__control:checked~label.sk-toggleable__label {background-color: #d4ebff;}#sk-container-id-4 input.sk-hidden--visually {border: 0;clip: rect(1px 1px 1px 1px);clip: rect(1px, 1px, 1px, 1px);height: 1px;margin: -1px;overflow: hidden;padding: 0;position: absolute;width: 1px;}#sk-container-id-4 div.sk-estimator {font-family: monospace;background-color: #f0f8ff;border: 1px dotted black;border-radius: 0.25em;box-sizing: border-box;margin-bottom: 0.5em;}#sk-container-id-4 div.sk-estimator:hover {background-color: #d4ebff;}#sk-container-id-4 div.sk-parallel-item::after {content: \"\";width: 100%;border-bottom: 1px solid gray;flex-grow: 1;}#sk-container-id-4 div.sk-label:hover label.sk-toggleable__label {background-color: #d4ebff;}#sk-container-id-4 div.sk-serial::before {content: \"\";position: absolute;border-left: 1px solid gray;box-sizing: border-box;top: 0;bottom: 0;left: 50%;z-index: 0;}#sk-container-id-4 div.sk-serial {display: flex;flex-direction: column;align-items: center;background-color: white;padding-right: 0.2em;padding-left: 0.2em;position: relative;}#sk-container-id-4 div.sk-item {position: relative;z-index: 1;}#sk-container-id-4 div.sk-parallel {display: flex;align-items: stretch;justify-content: center;background-color: white;position: relative;}#sk-container-id-4 div.sk-item::before, #sk-container-id-4 div.sk-parallel-item::before {content: \"\";position: absolute;border-left: 1px solid gray;box-sizing: border-box;top: 0;bottom: 0;left: 50%;z-index: -1;}#sk-container-id-4 div.sk-parallel-item {display: flex;flex-direction: column;z-index: 1;position: relative;background-color: white;}#sk-container-id-4 div.sk-parallel-item:first-child::after {align-self: flex-end;width: 50%;}#sk-container-id-4 div.sk-parallel-item:last-child::after {align-self: flex-start;width: 50%;}#sk-container-id-4 div.sk-parallel-item:only-child::after {width: 0;}#sk-container-id-4 div.sk-dashed-wrapped {border: 1px dashed gray;margin: 0 0.4em 0.5em 0.4em;box-sizing: border-box;padding-bottom: 0.4em;background-color: white;}#sk-container-id-4 div.sk-label label {font-family: monospace;font-weight: bold;display: inline-block;line-height: 1.2em;}#sk-container-id-4 div.sk-label-container {text-align: center;}#sk-container-id-4 div.sk-container {/* jupyter's `normalize.less` sets `[hidden] { display: none; }` but bootstrap.min.css set `[hidden] { display: none !important; }` so we also need the `!important` here to be able to override the default hidden behavior on the sphinx rendered scikit-learn.org. See: https://github.com/scikit-learn/scikit-learn/issues/21755 */display: inline-block !important;position: relative;}#sk-container-id-4 div.sk-text-repr-fallback {display: none;}</style><div id=\"sk-container-id-4\" class=\"sk-top-container\"><div class=\"sk-text-repr-fallback\"><pre>DecisionTreeClassifier()</pre><b>In a Jupyter environment, please rerun this cell to show the HTML representation or trust the notebook. <br />On GitHub, the HTML representation is unable to render, please try loading this page with nbviewer.org.</b></div><div class=\"sk-container\" hidden><div class=\"sk-item\"><div class=\"sk-estimator sk-toggleable\"><input class=\"sk-toggleable__control sk-hidden--visually\" id=\"sk-estimator-id-4\" type=\"checkbox\" checked><label for=\"sk-estimator-id-4\" class=\"sk-toggleable__label sk-toggleable__label-arrow\">DecisionTreeClassifier</label><div class=\"sk-toggleable__content\"><pre>DecisionTreeClassifier()</pre></div></div></div></div></div>"
      ],
      "text/plain": [
       "DecisionTreeClassifier()"
      ]
     },
     "execution_count": 57,
     "metadata": {},
     "output_type": "execute_result"
    }
   ],
   "source": [
    "decision_tree_model = DecisionTreeClassifier() \n",
    "decision_tree_model.fit(X_train_Standardize, Y_train)"
   ]
  },
  {
   "cell_type": "markdown",
   "id": "4adfc5b2",
   "metadata": {},
   "source": [
    "#### Model Evaluation  "
   ]
  },
  {
   "cell_type": "markdown",
   "id": "bac49537",
   "metadata": {},
   "source": [
    "#### Evaluate the performance of each model on the testing set using appropriate metrics "
   ]
  },
  {
   "cell_type": "markdown",
   "id": "9f814b5c",
   "metadata": {},
   "source": [
    "#### Using accuracy score"
   ]
  },
  {
   "cell_type": "code",
   "execution_count": 58,
   "id": "ed6dd39b",
   "metadata": {},
   "outputs": [
    {
     "name": "stdout",
     "output_type": "stream",
     "text": [
      "accuracy of training data: 1.0\n"
     ]
    }
   ],
   "source": [
    "X_train_prediction= decision_tree_model.predict(X_train_Standardize)\n",
    "threshold = 0.5  # Example threshold\n",
    "X_train_prediction_binary = (X_train_prediction > threshold).astype(int)\n",
    "training_data_accuracy=accuracy_score(X_train_prediction_binary, Y_train)\n",
    "print(f'accuracy of training data: {training_data_accuracy}')"
   ]
  },
  {
   "cell_type": "code",
   "execution_count": 59,
   "id": "1af583ec",
   "metadata": {},
   "outputs": [
    {
     "name": "stdout",
     "output_type": "stream",
     "text": [
      "accuracy of training data: 0.8032786885245902\n"
     ]
    }
   ],
   "source": [
    "X_test_prediction= decision_tree_model.predict(X_test_Standardize)\n",
    "threshold = 0.5  # Example threshold\n",
    "X_test_prediction_binary = (X_test_prediction > threshold).astype(int)\n",
    "test_data_accuracy=accuracy_score(X_test_prediction_binary, Y_test)\n",
    "print(f'accuracy of training data: {test_data_accuracy}')"
   ]
  },
  {
   "cell_type": "markdown",
   "id": "23325902",
   "metadata": {},
   "source": [
    "#### Using precision score"
   ]
  },
  {
   "cell_type": "code",
   "execution_count": 60,
   "id": "d7b9f1f3",
   "metadata": {},
   "outputs": [
    {
     "name": "stdout",
     "output_type": "stream",
     "text": [
      "Precision of training data: 1.0\n"
     ]
    }
   ],
   "source": [
    "X_train_prediction= decision_tree_model.predict(X_train_Standardize)\n",
    "threshold = 0.5  # Example threshold\n",
    "X_train_prediction_binary = (X_train_prediction > threshold).astype(int)\n",
    "training_data_precision = precision_score(Y_train, X_train_prediction_binary)\n",
    "print(f'Precision of training data: {training_data_precision}')"
   ]
  },
  {
   "cell_type": "code",
   "execution_count": 61,
   "id": "dbef4028",
   "metadata": {},
   "outputs": [
    {
     "name": "stdout",
     "output_type": "stream",
     "text": [
      "Precision of test data: 0.8181818181818182\n"
     ]
    }
   ],
   "source": [
    "X_test_prediction= decision_tree_model.predict(X_test_Standardize)\n",
    "threshold = 0.5  # Example threshold\n",
    "X_test_prediction_binary = (X_test_prediction > threshold).astype(int)\n",
    "test_data_precision = precision_score(Y_test, X_test_prediction_binary)\n",
    "print(f'Precision of test data: {test_data_precision}')"
   ]
  },
  {
   "cell_type": "markdown",
   "id": "379d9809",
   "metadata": {},
   "source": [
    "#### Using f1 score "
   ]
  },
  {
   "cell_type": "code",
   "execution_count": 62,
   "id": "80ffe060",
   "metadata": {},
   "outputs": [
    {
     "name": "stdout",
     "output_type": "stream",
     "text": [
      "f1 score of training data: 1.0\n"
     ]
    }
   ],
   "source": [
    "X_train_prediction= decision_tree_model.predict(X_train_Standardize)\n",
    "threshold = 0.5  # Example threshold\n",
    "X_train_prediction_binary = (X_train_prediction > threshold).astype(int)\n",
    "train_f1 = f1_score(X_train_prediction_binary,Y_train)\n",
    "print(f'f1 score of training data: {train_f1}')"
   ]
  },
  {
   "cell_type": "code",
   "execution_count": 63,
   "id": "30760a5b",
   "metadata": {},
   "outputs": [
    {
     "name": "stdout",
     "output_type": "stream",
     "text": [
      "f1 score of testing data: 0.8181818181818182\n"
     ]
    }
   ],
   "source": [
    "X_test_prediction= decision_tree_model.predict(X_test_Standardize)\n",
    "threshold = 0.5  # Example threshold\n",
    "X_test_prediction_binary = (X_test_prediction > threshold).astype(int)\n",
    "test_recall = f1_score(X_test_prediction_binary,Y_test)\n",
    "print(f'f1 score of testing data: {test_recall}')"
   ]
  },
  {
   "cell_type": "markdown",
   "id": "53191ff9",
   "metadata": {},
   "source": [
    "### Making Predictive System"
   ]
  },
  {
   "cell_type": "code",
   "execution_count": 64,
   "id": "40db3b4a",
   "metadata": {},
   "outputs": [
    {
     "name": "stdout",
     "output_type": "stream",
     "text": [
      "[0]\n"
     ]
    }
   ],
   "source": [
    "inputdata=(63,1,0,130,330,1,0,132,1,1.8,2,3,3)\n",
    "input_data_as_numpy_array=np.asarray(inputdata)  #changing the inputdata to a numpy array\n",
    "input_data_reshape=input_data_as_numpy_array.reshape(1,-1)\n",
    "prediction=decision_tree_model.predict(input_data_reshape)\n",
    "print(prediction)"
   ]
  },
  {
   "cell_type": "markdown",
   "id": "05332b2c",
   "metadata": {},
   "source": [
    "### Using XGBoost"
   ]
  },
  {
   "cell_type": "code",
   "execution_count": 65,
   "id": "18f001e7",
   "metadata": {},
   "outputs": [
    {
     "data": {
      "text/html": [
       "<style>#sk-container-id-5 {color: black;}#sk-container-id-5 pre{padding: 0;}#sk-container-id-5 div.sk-toggleable {background-color: white;}#sk-container-id-5 label.sk-toggleable__label {cursor: pointer;display: block;width: 100%;margin-bottom: 0;padding: 0.3em;box-sizing: border-box;text-align: center;}#sk-container-id-5 label.sk-toggleable__label-arrow:before {content: \"▸\";float: left;margin-right: 0.25em;color: #696969;}#sk-container-id-5 label.sk-toggleable__label-arrow:hover:before {color: black;}#sk-container-id-5 div.sk-estimator:hover label.sk-toggleable__label-arrow:before {color: black;}#sk-container-id-5 div.sk-toggleable__content {max-height: 0;max-width: 0;overflow: hidden;text-align: left;background-color: #f0f8ff;}#sk-container-id-5 div.sk-toggleable__content pre {margin: 0.2em;color: black;border-radius: 0.25em;background-color: #f0f8ff;}#sk-container-id-5 input.sk-toggleable__control:checked~div.sk-toggleable__content {max-height: 200px;max-width: 100%;overflow: auto;}#sk-container-id-5 input.sk-toggleable__control:checked~label.sk-toggleable__label-arrow:before {content: \"▾\";}#sk-container-id-5 div.sk-estimator input.sk-toggleable__control:checked~label.sk-toggleable__label {background-color: #d4ebff;}#sk-container-id-5 div.sk-label input.sk-toggleable__control:checked~label.sk-toggleable__label {background-color: #d4ebff;}#sk-container-id-5 input.sk-hidden--visually {border: 0;clip: rect(1px 1px 1px 1px);clip: rect(1px, 1px, 1px, 1px);height: 1px;margin: -1px;overflow: hidden;padding: 0;position: absolute;width: 1px;}#sk-container-id-5 div.sk-estimator {font-family: monospace;background-color: #f0f8ff;border: 1px dotted black;border-radius: 0.25em;box-sizing: border-box;margin-bottom: 0.5em;}#sk-container-id-5 div.sk-estimator:hover {background-color: #d4ebff;}#sk-container-id-5 div.sk-parallel-item::after {content: \"\";width: 100%;border-bottom: 1px solid gray;flex-grow: 1;}#sk-container-id-5 div.sk-label:hover label.sk-toggleable__label {background-color: #d4ebff;}#sk-container-id-5 div.sk-serial::before {content: \"\";position: absolute;border-left: 1px solid gray;box-sizing: border-box;top: 0;bottom: 0;left: 50%;z-index: 0;}#sk-container-id-5 div.sk-serial {display: flex;flex-direction: column;align-items: center;background-color: white;padding-right: 0.2em;padding-left: 0.2em;position: relative;}#sk-container-id-5 div.sk-item {position: relative;z-index: 1;}#sk-container-id-5 div.sk-parallel {display: flex;align-items: stretch;justify-content: center;background-color: white;position: relative;}#sk-container-id-5 div.sk-item::before, #sk-container-id-5 div.sk-parallel-item::before {content: \"\";position: absolute;border-left: 1px solid gray;box-sizing: border-box;top: 0;bottom: 0;left: 50%;z-index: -1;}#sk-container-id-5 div.sk-parallel-item {display: flex;flex-direction: column;z-index: 1;position: relative;background-color: white;}#sk-container-id-5 div.sk-parallel-item:first-child::after {align-self: flex-end;width: 50%;}#sk-container-id-5 div.sk-parallel-item:last-child::after {align-self: flex-start;width: 50%;}#sk-container-id-5 div.sk-parallel-item:only-child::after {width: 0;}#sk-container-id-5 div.sk-dashed-wrapped {border: 1px dashed gray;margin: 0 0.4em 0.5em 0.4em;box-sizing: border-box;padding-bottom: 0.4em;background-color: white;}#sk-container-id-5 div.sk-label label {font-family: monospace;font-weight: bold;display: inline-block;line-height: 1.2em;}#sk-container-id-5 div.sk-label-container {text-align: center;}#sk-container-id-5 div.sk-container {/* jupyter's `normalize.less` sets `[hidden] { display: none; }` but bootstrap.min.css set `[hidden] { display: none !important; }` so we also need the `!important` here to be able to override the default hidden behavior on the sphinx rendered scikit-learn.org. See: https://github.com/scikit-learn/scikit-learn/issues/21755 */display: inline-block !important;position: relative;}#sk-container-id-5 div.sk-text-repr-fallback {display: none;}</style><div id=\"sk-container-id-5\" class=\"sk-top-container\"><div class=\"sk-text-repr-fallback\"><pre>XGBClassifier(base_score=None, booster=None, callbacks=None,\n",
       "              colsample_bylevel=None, colsample_bynode=None,\n",
       "              colsample_bytree=None, device=None, early_stopping_rounds=None,\n",
       "              enable_categorical=False, eval_metric=None, feature_types=None,\n",
       "              gamma=None, grow_policy=None, importance_type=None,\n",
       "              interaction_constraints=None, learning_rate=None, max_bin=None,\n",
       "              max_cat_threshold=None, max_cat_to_onehot=None,\n",
       "              max_delta_step=None, max_depth=None, max_leaves=None,\n",
       "              min_child_weight=None, missing=nan, monotone_constraints=None,\n",
       "              multi_strategy=None, n_estimators=None, n_jobs=None,\n",
       "              num_parallel_tree=None, random_state=None, ...)</pre><b>In a Jupyter environment, please rerun this cell to show the HTML representation or trust the notebook. <br />On GitHub, the HTML representation is unable to render, please try loading this page with nbviewer.org.</b></div><div class=\"sk-container\" hidden><div class=\"sk-item\"><div class=\"sk-estimator sk-toggleable\"><input class=\"sk-toggleable__control sk-hidden--visually\" id=\"sk-estimator-id-5\" type=\"checkbox\" checked><label for=\"sk-estimator-id-5\" class=\"sk-toggleable__label sk-toggleable__label-arrow\">XGBClassifier</label><div class=\"sk-toggleable__content\"><pre>XGBClassifier(base_score=None, booster=None, callbacks=None,\n",
       "              colsample_bylevel=None, colsample_bynode=None,\n",
       "              colsample_bytree=None, device=None, early_stopping_rounds=None,\n",
       "              enable_categorical=False, eval_metric=None, feature_types=None,\n",
       "              gamma=None, grow_policy=None, importance_type=None,\n",
       "              interaction_constraints=None, learning_rate=None, max_bin=None,\n",
       "              max_cat_threshold=None, max_cat_to_onehot=None,\n",
       "              max_delta_step=None, max_depth=None, max_leaves=None,\n",
       "              min_child_weight=None, missing=nan, monotone_constraints=None,\n",
       "              multi_strategy=None, n_estimators=None, n_jobs=None,\n",
       "              num_parallel_tree=None, random_state=None, ...)</pre></div></div></div></div></div>"
      ],
      "text/plain": [
       "XGBClassifier(base_score=None, booster=None, callbacks=None,\n",
       "              colsample_bylevel=None, colsample_bynode=None,\n",
       "              colsample_bytree=None, device=None, early_stopping_rounds=None,\n",
       "              enable_categorical=False, eval_metric=None, feature_types=None,\n",
       "              gamma=None, grow_policy=None, importance_type=None,\n",
       "              interaction_constraints=None, learning_rate=None, max_bin=None,\n",
       "              max_cat_threshold=None, max_cat_to_onehot=None,\n",
       "              max_delta_step=None, max_depth=None, max_leaves=None,\n",
       "              min_child_weight=None, missing=nan, monotone_constraints=None,\n",
       "              multi_strategy=None, n_estimators=None, n_jobs=None,\n",
       "              num_parallel_tree=None, random_state=None, ...)"
      ]
     },
     "execution_count": 65,
     "metadata": {},
     "output_type": "execute_result"
    }
   ],
   "source": [
    "xgb_model = XGBClassifier()\n",
    "xgb_model.fit(X_train_Standardize, Y_train)"
   ]
  },
  {
   "cell_type": "code",
   "execution_count": 66,
   "id": "6f41ce5f",
   "metadata": {},
   "outputs": [
    {
     "name": "stdout",
     "output_type": "stream",
     "text": [
      "accuracy of training data: 1.0\n"
     ]
    }
   ],
   "source": [
    "X_train_prediction= xgb_model.predict(X_train_Standardize)\n",
    "threshold = 0.5  # Example threshold\n",
    "X_train_prediction_binary = (X_train_prediction > threshold).astype(int)\n",
    "training_data_accuracy=accuracy_score(X_train_prediction_binary, Y_train)\n",
    "print(f'accuracy of training data: {training_data_accuracy}')"
   ]
  },
  {
   "cell_type": "code",
   "execution_count": 67,
   "id": "7305709f",
   "metadata": {},
   "outputs": [
    {
     "name": "stdout",
     "output_type": "stream",
     "text": [
      "accuracy of training data: 0.8360655737704918\n"
     ]
    }
   ],
   "source": [
    "X_test_prediction= xgb_model.predict(X_test_Standardize)\n",
    "threshold = 0.5  # Example threshold\n",
    "X_test_prediction_binary = (X_test_prediction > threshold).astype(int)\n",
    "test_data_accuracy=accuracy_score(X_test_prediction_binary, Y_test)\n",
    "print(f'accuracy of training data: {test_data_accuracy}')"
   ]
  },
  {
   "cell_type": "code",
   "execution_count": 68,
   "id": "b73ab5c0",
   "metadata": {},
   "outputs": [
    {
     "name": "stdout",
     "output_type": "stream",
     "text": [
      "Precision of training data: 1.0\n"
     ]
    }
   ],
   "source": [
    "X_train_prediction= xgb_model.predict(X_train_Standardize)\n",
    "threshold = 0.5  # Example threshold\n",
    "X_train_prediction_binary = (X_train_prediction > threshold).astype(int)\n",
    "training_data_precision = precision_score(X_train_prediction_binary,Y_train)\n",
    "print(f'Precision of training data: {training_data_precision}')"
   ]
  },
  {
   "cell_type": "code",
   "execution_count": 69,
   "id": "d5d71de7",
   "metadata": {},
   "outputs": [
    {
     "name": "stdout",
     "output_type": "stream",
     "text": [
      "Precision of test data: 0.9393939393939394\n"
     ]
    }
   ],
   "source": [
    "X_test_prediction= xgb_model.predict(X_test_Standardize)\n",
    "threshold = 0.5  # Example threshold\n",
    "X_test_prediction_binary = (X_test_prediction > threshold).astype(int)\n",
    "test_data_precision = precision_score(X_test_prediction_binary,Y_test)\n",
    "print(f'Precision of test data: {test_data_precision}')"
   ]
  },
  {
   "cell_type": "code",
   "execution_count": 70,
   "id": "8c79ad9f",
   "metadata": {},
   "outputs": [
    {
     "name": "stdout",
     "output_type": "stream",
     "text": [
      "f1 score of training data: 1.0\n"
     ]
    }
   ],
   "source": [
    "X_train_prediction= xgb_model.predict(X_train_Standardize)\n",
    "threshold = 0.5  # Example threshold\n",
    "X_train_prediction_binary = (X_train_prediction > threshold).astype(int)\n",
    "train_f1 = f1_score(X_train_prediction_binary,Y_train)\n",
    "print(f'f1 score of training data: {train_f1}')"
   ]
  },
  {
   "cell_type": "code",
   "execution_count": 71,
   "id": "8ff8d42e",
   "metadata": {},
   "outputs": [
    {
     "name": "stdout",
     "output_type": "stream",
     "text": [
      "f1 score of testing data: 0.8611111111111112\n"
     ]
    }
   ],
   "source": [
    "X_test_prediction= xgb_model.predict(X_test_Standardize)\n",
    "threshold = 0.5  # Example threshold\n",
    "X_test_prediction_binary = (X_test_prediction > threshold).astype(int)\n",
    "test_recall = f1_score(X_test_prediction_binary,Y_test)\n",
    "print(f'f1 score of testing data: {test_recall}')"
   ]
  },
  {
   "cell_type": "code",
   "execution_count": 72,
   "id": "fb00b61a",
   "metadata": {},
   "outputs": [
    {
     "name": "stdout",
     "output_type": "stream",
     "text": [
      "[0]\n"
     ]
    }
   ],
   "source": [
    "inputdata=(58,0,0,100,248,0,0,122,0,1,1,0,2)\n",
    "input_data_as_numpy_array=np.asarray(inputdata)  #changing the inputdata to a numpy array\n",
    "input_data_reshape=input_data_as_numpy_array.reshape(1,-1)\n",
    "prediction=xgb_model.predict(input_data_reshape)\n",
    "print(prediction)"
   ]
  },
  {
   "cell_type": "markdown",
   "id": "dee370a5",
   "metadata": {},
   "source": [
    "### Support vector machine "
   ]
  },
  {
   "cell_type": "code",
   "execution_count": 73,
   "id": "ed01da83",
   "metadata": {},
   "outputs": [
    {
     "data": {
      "text/html": [
       "<style>#sk-container-id-6 {color: black;}#sk-container-id-6 pre{padding: 0;}#sk-container-id-6 div.sk-toggleable {background-color: white;}#sk-container-id-6 label.sk-toggleable__label {cursor: pointer;display: block;width: 100%;margin-bottom: 0;padding: 0.3em;box-sizing: border-box;text-align: center;}#sk-container-id-6 label.sk-toggleable__label-arrow:before {content: \"▸\";float: left;margin-right: 0.25em;color: #696969;}#sk-container-id-6 label.sk-toggleable__label-arrow:hover:before {color: black;}#sk-container-id-6 div.sk-estimator:hover label.sk-toggleable__label-arrow:before {color: black;}#sk-container-id-6 div.sk-toggleable__content {max-height: 0;max-width: 0;overflow: hidden;text-align: left;background-color: #f0f8ff;}#sk-container-id-6 div.sk-toggleable__content pre {margin: 0.2em;color: black;border-radius: 0.25em;background-color: #f0f8ff;}#sk-container-id-6 input.sk-toggleable__control:checked~div.sk-toggleable__content {max-height: 200px;max-width: 100%;overflow: auto;}#sk-container-id-6 input.sk-toggleable__control:checked~label.sk-toggleable__label-arrow:before {content: \"▾\";}#sk-container-id-6 div.sk-estimator input.sk-toggleable__control:checked~label.sk-toggleable__label {background-color: #d4ebff;}#sk-container-id-6 div.sk-label input.sk-toggleable__control:checked~label.sk-toggleable__label {background-color: #d4ebff;}#sk-container-id-6 input.sk-hidden--visually {border: 0;clip: rect(1px 1px 1px 1px);clip: rect(1px, 1px, 1px, 1px);height: 1px;margin: -1px;overflow: hidden;padding: 0;position: absolute;width: 1px;}#sk-container-id-6 div.sk-estimator {font-family: monospace;background-color: #f0f8ff;border: 1px dotted black;border-radius: 0.25em;box-sizing: border-box;margin-bottom: 0.5em;}#sk-container-id-6 div.sk-estimator:hover {background-color: #d4ebff;}#sk-container-id-6 div.sk-parallel-item::after {content: \"\";width: 100%;border-bottom: 1px solid gray;flex-grow: 1;}#sk-container-id-6 div.sk-label:hover label.sk-toggleable__label {background-color: #d4ebff;}#sk-container-id-6 div.sk-serial::before {content: \"\";position: absolute;border-left: 1px solid gray;box-sizing: border-box;top: 0;bottom: 0;left: 50%;z-index: 0;}#sk-container-id-6 div.sk-serial {display: flex;flex-direction: column;align-items: center;background-color: white;padding-right: 0.2em;padding-left: 0.2em;position: relative;}#sk-container-id-6 div.sk-item {position: relative;z-index: 1;}#sk-container-id-6 div.sk-parallel {display: flex;align-items: stretch;justify-content: center;background-color: white;position: relative;}#sk-container-id-6 div.sk-item::before, #sk-container-id-6 div.sk-parallel-item::before {content: \"\";position: absolute;border-left: 1px solid gray;box-sizing: border-box;top: 0;bottom: 0;left: 50%;z-index: -1;}#sk-container-id-6 div.sk-parallel-item {display: flex;flex-direction: column;z-index: 1;position: relative;background-color: white;}#sk-container-id-6 div.sk-parallel-item:first-child::after {align-self: flex-end;width: 50%;}#sk-container-id-6 div.sk-parallel-item:last-child::after {align-self: flex-start;width: 50%;}#sk-container-id-6 div.sk-parallel-item:only-child::after {width: 0;}#sk-container-id-6 div.sk-dashed-wrapped {border: 1px dashed gray;margin: 0 0.4em 0.5em 0.4em;box-sizing: border-box;padding-bottom: 0.4em;background-color: white;}#sk-container-id-6 div.sk-label label {font-family: monospace;font-weight: bold;display: inline-block;line-height: 1.2em;}#sk-container-id-6 div.sk-label-container {text-align: center;}#sk-container-id-6 div.sk-container {/* jupyter's `normalize.less` sets `[hidden] { display: none; }` but bootstrap.min.css set `[hidden] { display: none !important; }` so we also need the `!important` here to be able to override the default hidden behavior on the sphinx rendered scikit-learn.org. See: https://github.com/scikit-learn/scikit-learn/issues/21755 */display: inline-block !important;position: relative;}#sk-container-id-6 div.sk-text-repr-fallback {display: none;}</style><div id=\"sk-container-id-6\" class=\"sk-top-container\"><div class=\"sk-text-repr-fallback\"><pre>SVC(probability=True)</pre><b>In a Jupyter environment, please rerun this cell to show the HTML representation or trust the notebook. <br />On GitHub, the HTML representation is unable to render, please try loading this page with nbviewer.org.</b></div><div class=\"sk-container\" hidden><div class=\"sk-item\"><div class=\"sk-estimator sk-toggleable\"><input class=\"sk-toggleable__control sk-hidden--visually\" id=\"sk-estimator-id-6\" type=\"checkbox\" checked><label for=\"sk-estimator-id-6\" class=\"sk-toggleable__label sk-toggleable__label-arrow\">SVC</label><div class=\"sk-toggleable__content\"><pre>SVC(probability=True)</pre></div></div></div></div></div>"
      ],
      "text/plain": [
       "SVC(probability=True)"
      ]
     },
     "execution_count": 73,
     "metadata": {},
     "output_type": "execute_result"
    }
   ],
   "source": [
    "svm_model = SVC(C=1.0, kernel='rbf', gamma='scale', probability=True)\n",
    "svm_model.fit(X_train_Standardize, Y_train)"
   ]
  },
  {
   "cell_type": "markdown",
   "id": "a8aef26b",
   "metadata": {},
   "source": [
    "#### using accuracy score"
   ]
  },
  {
   "cell_type": "code",
   "execution_count": 74,
   "id": "01421fa5",
   "metadata": {},
   "outputs": [
    {
     "name": "stdout",
     "output_type": "stream",
     "text": [
      "accuracy of training data: 0.9087136929460581\n"
     ]
    }
   ],
   "source": [
    "X_train_prediction= svm_model.predict(X_train_Standardize)\n",
    "threshold = 0.5  # Example threshold\n",
    "X_train_prediction_binary = (X_train_prediction > threshold).astype(int)\n",
    "training_data_accuracy=accuracy_score(X_train_prediction_binary, Y_train)\n",
    "print(f'accuracy of training data: {training_data_accuracy}')"
   ]
  },
  {
   "cell_type": "code",
   "execution_count": 75,
   "id": "c2e400d1",
   "metadata": {},
   "outputs": [
    {
     "name": "stdout",
     "output_type": "stream",
     "text": [
      "accuracy of training data: 0.8852459016393442\n"
     ]
    }
   ],
   "source": [
    "X_test_prediction= svm_model.predict(X_test_Standardize)\n",
    "threshold = 0.5  # Example threshold\n",
    "X_test_prediction_binary = (X_test_prediction > threshold).astype(int)\n",
    "test_data_accuracy=accuracy_score(X_test_prediction_binary, Y_test)\n",
    "print(f'accuracy of training data: {test_data_accuracy}')"
   ]
  },
  {
   "cell_type": "markdown",
   "id": "40c4ac28",
   "metadata": {},
   "source": [
    "#### using precision score "
   ]
  },
  {
   "cell_type": "code",
   "execution_count": 76,
   "id": "af5ac432",
   "metadata": {},
   "outputs": [
    {
     "name": "stdout",
     "output_type": "stream",
     "text": [
      "Precision of training data: 0.9465648854961832\n"
     ]
    }
   ],
   "source": [
    "X_train_prediction= svm_model.predict(X_train_Standardize)\n",
    "threshold = 0.5  # Example threshold\n",
    "X_train_prediction_binary = (X_train_prediction > threshold).astype(int)\n",
    "training_data_precision = precision_score(X_train_prediction_binary,Y_train)\n",
    "print(f'Precision of training data: {training_data_precision}')"
   ]
  },
  {
   "cell_type": "code",
   "execution_count": 77,
   "id": "db6920eb",
   "metadata": {},
   "outputs": [
    {
     "name": "stdout",
     "output_type": "stream",
     "text": [
      "Precision of test data: 0.9090909090909091\n"
     ]
    }
   ],
   "source": [
    "X_test_prediction= svm_model.predict(X_test_Standardize)\n",
    "threshold = 0.5  # Example threshold\n",
    "X_test_prediction_binary = (X_test_prediction > threshold).astype(int)\n",
    "test_data_precision = precision_score(X_test_prediction_binary,Y_test)\n",
    "print(f'Precision of test data: {test_data_precision}')"
   ]
  },
  {
   "cell_type": "markdown",
   "id": "86fab45a",
   "metadata": {},
   "source": [
    "#### Using f1 score"
   ]
  },
  {
   "cell_type": "code",
   "execution_count": 78,
   "id": "257be460",
   "metadata": {},
   "outputs": [
    {
     "name": "stdout",
     "output_type": "stream",
     "text": [
      "f1 score of training data: 0.9185185185185185\n"
     ]
    }
   ],
   "source": [
    "X_train_prediction= svm_model.predict(X_train_Standardize)\n",
    "threshold = 0.5  # Example threshold\n",
    "X_train_prediction_binary = (X_train_prediction > threshold).astype(int)\n",
    "train_f1 = f1_score(X_train_prediction_binary,Y_train)\n",
    "print(f'f1 score of training data: {train_f1}')"
   ]
  },
  {
   "cell_type": "code",
   "execution_count": 79,
   "id": "bd8a4809",
   "metadata": {},
   "outputs": [
    {
     "name": "stdout",
     "output_type": "stream",
     "text": [
      "f1 score of testing data: 0.8955223880597014\n"
     ]
    }
   ],
   "source": [
    "X_test_prediction= svm_model.predict(X_test_Standardize)\n",
    "threshold = 0.5  # Example threshold\n",
    "X_test_prediction_binary = (X_test_prediction > threshold).astype(int)\n",
    "test_recall = f1_score(X_test_prediction_binary,Y_test)\n",
    "print(f'f1 score of testing data: {test_recall}')"
   ]
  },
  {
   "cell_type": "code",
   "execution_count": 80,
   "id": "eafe321c",
   "metadata": {},
   "outputs": [
    {
     "name": "stdout",
     "output_type": "stream",
     "text": [
      "[0]\n"
     ]
    }
   ],
   "source": [
    "inputdata=(56,1,0,132,184,0,0,105,1,2.1,1,1,1)\n",
    "input_data_as_numpy_array=np.asarray(inputdata)  #changing the inputdata to a numpy array\n",
    "input_data_reshape=input_data_as_numpy_array.reshape(1,-1)\n",
    "prediction=svm_model.predict(input_data_reshape)\n",
    "print(prediction)"
   ]
  },
  {
   "cell_type": "markdown",
   "id": "5bca88b3",
   "metadata": {},
   "source": [
    "### K-Nearest Neighbors"
   ]
  },
  {
   "cell_type": "code",
   "execution_count": 81,
   "id": "b202841f",
   "metadata": {
    "scrolled": true
   },
   "outputs": [
    {
     "data": {
      "text/html": [
       "<style>#sk-container-id-7 {color: black;}#sk-container-id-7 pre{padding: 0;}#sk-container-id-7 div.sk-toggleable {background-color: white;}#sk-container-id-7 label.sk-toggleable__label {cursor: pointer;display: block;width: 100%;margin-bottom: 0;padding: 0.3em;box-sizing: border-box;text-align: center;}#sk-container-id-7 label.sk-toggleable__label-arrow:before {content: \"▸\";float: left;margin-right: 0.25em;color: #696969;}#sk-container-id-7 label.sk-toggleable__label-arrow:hover:before {color: black;}#sk-container-id-7 div.sk-estimator:hover label.sk-toggleable__label-arrow:before {color: black;}#sk-container-id-7 div.sk-toggleable__content {max-height: 0;max-width: 0;overflow: hidden;text-align: left;background-color: #f0f8ff;}#sk-container-id-7 div.sk-toggleable__content pre {margin: 0.2em;color: black;border-radius: 0.25em;background-color: #f0f8ff;}#sk-container-id-7 input.sk-toggleable__control:checked~div.sk-toggleable__content {max-height: 200px;max-width: 100%;overflow: auto;}#sk-container-id-7 input.sk-toggleable__control:checked~label.sk-toggleable__label-arrow:before {content: \"▾\";}#sk-container-id-7 div.sk-estimator input.sk-toggleable__control:checked~label.sk-toggleable__label {background-color: #d4ebff;}#sk-container-id-7 div.sk-label input.sk-toggleable__control:checked~label.sk-toggleable__label {background-color: #d4ebff;}#sk-container-id-7 input.sk-hidden--visually {border: 0;clip: rect(1px 1px 1px 1px);clip: rect(1px, 1px, 1px, 1px);height: 1px;margin: -1px;overflow: hidden;padding: 0;position: absolute;width: 1px;}#sk-container-id-7 div.sk-estimator {font-family: monospace;background-color: #f0f8ff;border: 1px dotted black;border-radius: 0.25em;box-sizing: border-box;margin-bottom: 0.5em;}#sk-container-id-7 div.sk-estimator:hover {background-color: #d4ebff;}#sk-container-id-7 div.sk-parallel-item::after {content: \"\";width: 100%;border-bottom: 1px solid gray;flex-grow: 1;}#sk-container-id-7 div.sk-label:hover label.sk-toggleable__label {background-color: #d4ebff;}#sk-container-id-7 div.sk-serial::before {content: \"\";position: absolute;border-left: 1px solid gray;box-sizing: border-box;top: 0;bottom: 0;left: 50%;z-index: 0;}#sk-container-id-7 div.sk-serial {display: flex;flex-direction: column;align-items: center;background-color: white;padding-right: 0.2em;padding-left: 0.2em;position: relative;}#sk-container-id-7 div.sk-item {position: relative;z-index: 1;}#sk-container-id-7 div.sk-parallel {display: flex;align-items: stretch;justify-content: center;background-color: white;position: relative;}#sk-container-id-7 div.sk-item::before, #sk-container-id-7 div.sk-parallel-item::before {content: \"\";position: absolute;border-left: 1px solid gray;box-sizing: border-box;top: 0;bottom: 0;left: 50%;z-index: -1;}#sk-container-id-7 div.sk-parallel-item {display: flex;flex-direction: column;z-index: 1;position: relative;background-color: white;}#sk-container-id-7 div.sk-parallel-item:first-child::after {align-self: flex-end;width: 50%;}#sk-container-id-7 div.sk-parallel-item:last-child::after {align-self: flex-start;width: 50%;}#sk-container-id-7 div.sk-parallel-item:only-child::after {width: 0;}#sk-container-id-7 div.sk-dashed-wrapped {border: 1px dashed gray;margin: 0 0.4em 0.5em 0.4em;box-sizing: border-box;padding-bottom: 0.4em;background-color: white;}#sk-container-id-7 div.sk-label label {font-family: monospace;font-weight: bold;display: inline-block;line-height: 1.2em;}#sk-container-id-7 div.sk-label-container {text-align: center;}#sk-container-id-7 div.sk-container {/* jupyter's `normalize.less` sets `[hidden] { display: none; }` but bootstrap.min.css set `[hidden] { display: none !important; }` so we also need the `!important` here to be able to override the default hidden behavior on the sphinx rendered scikit-learn.org. See: https://github.com/scikit-learn/scikit-learn/issues/21755 */display: inline-block !important;position: relative;}#sk-container-id-7 div.sk-text-repr-fallback {display: none;}</style><div id=\"sk-container-id-7\" class=\"sk-top-container\"><div class=\"sk-text-repr-fallback\"><pre>KNeighborsClassifier(weights=&#x27;distance&#x27;)</pre><b>In a Jupyter environment, please rerun this cell to show the HTML representation or trust the notebook. <br />On GitHub, the HTML representation is unable to render, please try loading this page with nbviewer.org.</b></div><div class=\"sk-container\" hidden><div class=\"sk-item\"><div class=\"sk-estimator sk-toggleable\"><input class=\"sk-toggleable__control sk-hidden--visually\" id=\"sk-estimator-id-7\" type=\"checkbox\" checked><label for=\"sk-estimator-id-7\" class=\"sk-toggleable__label sk-toggleable__label-arrow\">KNeighborsClassifier</label><div class=\"sk-toggleable__content\"><pre>KNeighborsClassifier(weights=&#x27;distance&#x27;)</pre></div></div></div></div></div>"
      ],
      "text/plain": [
       "KNeighborsClassifier(weights='distance')"
      ]
     },
     "execution_count": 81,
     "metadata": {},
     "output_type": "execute_result"
    }
   ],
   "source": [
    "knn_model = KNeighborsClassifier(n_neighbors=5, weights='distance', algorithm='auto', leaf_size=30, p=2)\n",
    "knn_model.fit(X_train_Standardize, Y_train)"
   ]
  },
  {
   "cell_type": "markdown",
   "id": "042ce743",
   "metadata": {},
   "source": [
    "#### Using accuracy_score"
   ]
  },
  {
   "cell_type": "code",
   "execution_count": 82,
   "id": "ca42ffa1",
   "metadata": {},
   "outputs": [
    {
     "name": "stdout",
     "output_type": "stream",
     "text": [
      "accuracy of training data: 1.0\n"
     ]
    }
   ],
   "source": [
    "X_train_prediction= knn_model.predict(X_train_Standardize)\n",
    "threshold = 0.5  # Example threshold\n",
    "X_train_prediction_binary = (X_train_prediction > threshold).astype(int)\n",
    "training_data_accuracy=accuracy_score(X_train_prediction_binary, Y_train)\n",
    "print(f'accuracy of training data: {training_data_accuracy}')"
   ]
  },
  {
   "cell_type": "code",
   "execution_count": 83,
   "id": "90a95887",
   "metadata": {},
   "outputs": [
    {
     "name": "stdout",
     "output_type": "stream",
     "text": [
      "accuracy of training data: 0.819672131147541\n"
     ]
    }
   ],
   "source": [
    "X_test_prediction= knn_model.predict(X_test_Standardize)\n",
    "threshold = 0.5  # Example threshold\n",
    "X_test_prediction_binary = (X_test_prediction > threshold).astype(int)\n",
    "test_data_accuracy=accuracy_score(X_test_prediction_binary, Y_test)\n",
    "print(f'accuracy of training data: {test_data_accuracy}')"
   ]
  },
  {
   "cell_type": "markdown",
   "id": "961dccff",
   "metadata": {},
   "source": [
    "#### Using precision score"
   ]
  },
  {
   "cell_type": "code",
   "execution_count": 84,
   "id": "08fe3ab4",
   "metadata": {},
   "outputs": [
    {
     "name": "stdout",
     "output_type": "stream",
     "text": [
      "Precision of training data: 1.0\n"
     ]
    }
   ],
   "source": [
    "X_train_prediction= knn_model.predict(X_train_Standardize)\n",
    "threshold = 0.5  # Example threshold\n",
    "X_train_prediction_binary = (X_train_prediction > threshold).astype(int)\n",
    "training_data_precision = precision_score(X_train_prediction_binary,Y_train)\n",
    "print(f'Precision of training data: {training_data_precision}')"
   ]
  },
  {
   "cell_type": "code",
   "execution_count": 85,
   "id": "42a71e45",
   "metadata": {},
   "outputs": [
    {
     "name": "stdout",
     "output_type": "stream",
     "text": [
      "Precision of test data: 0.8181818181818182\n"
     ]
    }
   ],
   "source": [
    "X_test_prediction= knn_model.predict(X_test_Standardize)\n",
    "threshold = 0.5  # Example threshold\n",
    "X_test_prediction_binary = (X_test_prediction > threshold).astype(int)\n",
    "test_data_precision = precision_score(X_test_prediction_binary,Y_test)\n",
    "print(f'Precision of test data: {test_data_precision}')"
   ]
  },
  {
   "cell_type": "markdown",
   "id": "74e831d6",
   "metadata": {},
   "source": [
    "#### Using f1 score"
   ]
  },
  {
   "cell_type": "code",
   "execution_count": 86,
   "id": "5ade44d8",
   "metadata": {
    "scrolled": true
   },
   "outputs": [
    {
     "name": "stdout",
     "output_type": "stream",
     "text": [
      "f1 score of training data: 1.0\n"
     ]
    }
   ],
   "source": [
    "X_train_prediction= knn_model.predict(X_train_Standardize)\n",
    "threshold = 0.5  # Example threshold\n",
    "X_train_prediction_binary = (X_train_prediction > threshold).astype(int)\n",
    "train_f1 = f1_score(X_train_prediction_binary,Y_train)\n",
    "print(f'f1 score of training data: {train_f1}')"
   ]
  },
  {
   "cell_type": "code",
   "execution_count": 87,
   "id": "b3a51c21",
   "metadata": {},
   "outputs": [
    {
     "name": "stdout",
     "output_type": "stream",
     "text": [
      "f1 score of testing data: 0.8307692307692308\n"
     ]
    }
   ],
   "source": [
    "X_test_prediction= knn_model.predict(X_test_Standardize)\n",
    "threshold = 0.5  # Example threshold\n",
    "X_test_prediction_binary = (X_test_prediction > threshold).astype(int)\n",
    "test_recall = f1_score(X_test_prediction_binary,Y_test)\n",
    "print(f'f1 score of testing data: {test_recall}')"
   ]
  },
  {
   "cell_type": "code",
   "execution_count": 1,
   "id": "9a078f55",
   "metadata": {},
   "outputs": [
    {
     "ename": "NameError",
     "evalue": "name 'np' is not defined",
     "output_type": "error",
     "traceback": [
      "\u001b[1;31m---------------------------------------------------------------------------\u001b[0m",
      "\u001b[1;31mNameError\u001b[0m                                 Traceback (most recent call last)",
      "Cell \u001b[1;32mIn[1], line 2\u001b[0m\n\u001b[0;32m      1\u001b[0m inputdata\u001b[38;5;241m=\u001b[39m(\u001b[38;5;241m51\u001b[39m,\u001b[38;5;241m1\u001b[39m,\u001b[38;5;241m0\u001b[39m,\u001b[38;5;241m140\u001b[39m,\u001b[38;5;241m298\u001b[39m,\u001b[38;5;241m0\u001b[39m,\u001b[38;5;241m1\u001b[39m,\u001b[38;5;241m122\u001b[39m,\u001b[38;5;241m1\u001b[39m,\u001b[38;5;241m4.2\u001b[39m,\u001b[38;5;241m1\u001b[39m,\u001b[38;5;241m3\u001b[39m,\u001b[38;5;241m3\u001b[39m)\n\u001b[1;32m----> 2\u001b[0m input_data_as_numpy_array\u001b[38;5;241m=\u001b[39mnp\u001b[38;5;241m.\u001b[39masarray(inputdata)  \u001b[38;5;66;03m#changing the inputdata to a numpy array\u001b[39;00m\n\u001b[0;32m      3\u001b[0m input_data_reshape\u001b[38;5;241m=\u001b[39minput_data_as_numpy_array\u001b[38;5;241m.\u001b[39mreshape(\u001b[38;5;241m1\u001b[39m,\u001b[38;5;241m-\u001b[39m\u001b[38;5;241m1\u001b[39m)\n\u001b[0;32m      4\u001b[0m prediction\u001b[38;5;241m=\u001b[39mknn_model\u001b[38;5;241m.\u001b[39mpredict(input_data_reshape)\n",
      "\u001b[1;31mNameError\u001b[0m: name 'np' is not defined"
     ]
    }
   ],
   "source": [
    "inputdata=(51,1,0,140,298,0,1,122,1,4.2,1,3,3)\n",
    "input_data_as_numpy_array=np.asarray(inputdata)  #changing the inputdata to a numpy array\n",
    "input_data_reshape=input_data_as_numpy_array.reshape(1,-1)\n",
    "prediction=knn_model.predict(input_data_reshape)\n",
    "print(prediction)"
   ]
  },
  {
   "cell_type": "code",
   "execution_count": null,
   "id": "315da89b",
   "metadata": {},
   "outputs": [],
   "source": []
  }
 ],
 "metadata": {
  "kernelspec": {
   "display_name": "Python 3 (ipykernel)",
   "language": "python",
   "name": "python3"
  },
  "language_info": {
   "codemirror_mode": {
    "name": "ipython",
    "version": 3
   },
   "file_extension": ".py",
   "mimetype": "text/x-python",
   "name": "python",
   "nbconvert_exporter": "python",
   "pygments_lexer": "ipython3",
   "version": "3.11.5"
  }
 },
 "nbformat": 4,
 "nbformat_minor": 5
}
